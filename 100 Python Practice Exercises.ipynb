{
 "cells": [
  {
   "cell_type": "markdown",
   "metadata": {},
   "source": [
    "Exercise 1:\n",
    "Write a program which will find all numbers between 2000 and 3200 (both included) divisible by 7 but which aren't a multiple of 5.\n",
    "The numbers obtained should be printed in a comma-separated sequence on a single line."
   ]
  },
  {
   "cell_type": "code",
   "execution_count": 6,
   "metadata": {},
   "outputs": [
    {
     "name": "stdout",
     "output_type": "stream",
     "text": [
      "2002,2009,2016,2023,2037,2044,2051,2058,2072,2079,2086,2093,2107,2114,2121,2128,2142,2149,2156,2163,2177,2184,2191,2198,2212,2219,2226,2233,2247,2254,2261,2268,2282,2289,2296,2303,2317,2324,2331,2338,2352,2359,2366,2373,2387,2394,2401,2408,2422,2429,2436,2443,2457,2464,2471,2478,2492,2499,2506,2513,2527,2534,2541,2548,2562,2569,2576,2583,2597,2604,2611,2618,2632,2639,2646,2653,2667,2674,2681,2688,2702,2709,2716,2723,2737,2744,2751,2758,2772,2779,2786,2793,2807,2814,2821,2828,2842,2849,2856,2863,2877,2884,2891,2898,2912,2919,2926,2933,2947,2954,2961,2968,2982,2989,2996,3003,3017,3024,3031,3038,3052,3059,3066,3073,3087,3094,3101,3108,3122,3129,3136,3143,3157,3164,3171,3178,3192,3199\n"
     ]
    }
   ],
   "source": [
    "multiples = []\n",
    "\n",
    "for num in range(2000, 3201):\n",
    "\tif ((num % 7) == 0) and ((num % 5) != 0):\n",
    "\t\tmultiples.append(str(num))\n",
    "\n",
    "print(\",\".join(multiples))"
   ]
  },
  {
   "cell_type": "markdown",
   "metadata": {},
   "source": [
    "_________________________________________________________________________\n",
    "\n",
    "Exercise 2:\n",
    "Write a program which can compute the factorial of given numbers.\n",
    "The results should be printed in a comma-separated sequence on a single line.\n",
    "Suppose the following input is supplied to the program: 8\n",
    "Then the output should be: 40320\n",
    "In case of input data being supplied to the question, it should be assumed to be a console input.\n",
    "\n",
    "A factorial is a function that multiplies a number by every number below it. For example the factorial of 5 is 120 or 5x4x3x2x1.\n",
    "\n",
    "I assumed the user could give multiple numbers, b/c the exercise was unclear on this."
   ]
  },
  {
   "cell_type": "code",
   "execution_count": 7,
   "metadata": {},
   "outputs": [
    {
     "name": "stdout",
     "output_type": "stream",
     "text": [
      "What number or numbers would you like to know the factorial of? (separated by spaces)8 5\n",
      "40320,120\n"
     ]
    }
   ],
   "source": [
    "nums = [int(nums) for nums in input('What number or numbers would you like to know the factorial of? (separated by spaces)').split()]  \n",
    "factorials = []\n",
    "\n",
    "for num in nums:\n",
    "\tfactorial = 1\n",
    "\tfor num in range(num, 1, -1): \n",
    "   \t\tfactorial = factorial * num\n",
    "\tfactorials.append(str(factorial))\n",
    "print(\",\".join(factorials))"
   ]
  },
  {
   "cell_type": "markdown",
   "metadata": {},
   "source": [
    "\n",
    "_________________________________________________________________________\n",
    "Exercise 3:\n",
    "With a given integral number n, write a program to generate and print a dictionary that contains (i, i x i) for each number between 1 and n (both included).\n",
    "Suppose the following input is supplied to the program: 8.\n",
    "Then the output should be: {1: 1, 2: 4, 3: 9, 4: 16, 5: 25, 6: 36, 7: 49, 8: 64}\n",
    "Hints: In case of input data being supplied to the question, it should be assumed to be a console input. Consider using dict()"
   ]
  },
  {
   "cell_type": "code",
   "execution_count": 8,
   "metadata": {},
   "outputs": [
    {
     "name": "stdout",
     "output_type": "stream",
     "text": [
      "Please enter a number: 8\n",
      "{1: 1, 2: 4, 3: 9, 4: 16, 5: 25, 6: 36, 7: 49, 8: 64}\n"
     ]
    }
   ],
   "source": [
    "num = int(input('Please enter a number: '))  \n",
    "squares = {}\n",
    "\n",
    "for k in range(1, (num + 1)):\n",
    "\tv = k*k\n",
    "\tsquares.update({k : v})\n",
    "\n",
    "print(squares)"
   ]
  },
  {
   "cell_type": "markdown",
   "metadata": {},
   "source": [
    "\n",
    "_________________________________________________________________________\n",
    "Exercise 4:\n",
    "Write a program which accepts a sequence of comma-separated numbers from the console and generates a list and a tuple which contains every number.\n",
    "Suppose the following input is supplied to the program: 34,67,55,33,12,98\n",
    "Then, the output should be:\n",
    "['34', '67', '55', '33', '12', '98']\n",
    "('34', '67', '55', '33', '12', '98')\n",
    "Hints: input.tuple() method can convert list to tuple"
   ]
  },
  {
   "cell_type": "code",
   "execution_count": 9,
   "metadata": {},
   "outputs": [
    {
     "name": "stdout",
     "output_type": "stream",
     "text": [
      "Enter some comma-separated numbers here: 34,67,55,33,12,98\n",
      "['34', '67', '55', '33', '12', '98']\n",
      "('34', '67', '55', '33', '12', '98')\n"
     ]
    }
   ],
   "source": [
    "li = input('Enter some comma-separated numbers here: ').split(',')\n",
    "#the input is one string which is split at the commas to make a list of strings\n",
    "\n",
    "tu = tuple(li)\n",
    "#tuple method converts list to tuple\n",
    "\n",
    "print(li)\n",
    "print(tu)"
   ]
  },
  {
   "cell_type": "markdown",
   "metadata": {},
   "source": [
    "\n",
    "_________________________________________________________________________\n",
    "Exercise 5:\n",
    "Define a class which has at least two methods: getString, to get a string from console input and printString, to print the string in upper case.\n",
    "Also please include simple test function to test the class methods.\n",
    "Hints: Use init method to construct some parameters."
   ]
  },
  {
   "cell_type": "code",
   "execution_count": 10,
   "metadata": {},
   "outputs": [
    {
     "name": "stdout",
     "output_type": "stream",
     "text": [
      "Type something here: I'm Dorothy, and there's no place like home.\n",
      "I'M DOROTHY, AND THERE'S NO PLACE LIKE HOME.\n"
     ]
    }
   ],
   "source": [
    "class Demo():\n",
    "\tdef __init__(self, user_string = 'hello world'):\n",
    "\t\tself.user_string = user_string\n",
    "\n",
    "\tdef getString(self):\n",
    "\t\tuser_string = input('Type something here: ')\n",
    "\t\treturn user_string\n",
    "\n",
    "\tdef printString(self, getString):\n",
    "\t\tupper_string = getString.upper()\n",
    "\t\tprint(upper_string)\n",
    "\t\t#return upper_string\n",
    "\n",
    "demo1 = Demo('crazy eights')\n",
    "demo1.printString(demo1.getString())\n",
    "\n",
    "#still working on test function"
   ]
  },
  {
   "cell_type": "code",
   "execution_count": 11,
   "metadata": {},
   "outputs": [],
   "source": [
    "# import unittest\n",
    "# from ex005 import Demo\n",
    "\n",
    "# class TestMain(unittest.TestCase):\n",
    "\n",
    "# \tdef test_printString(self):\n",
    "# \t\ttest_param = \"Hi, I'm Dorothy.\"\n",
    "# \t\tresult = Demo.printString(self, test_param)\n",
    "# \t\tself.assertEqual(result, \"HI, I'M DOROTHY.\")\n",
    "\n",
    "# \tdef test_isThisWorking(self):\n",
    "# \t\tprint('done testing')\n",
    "\n",
    "# if __name__ == '__main__':\n",
    "# \tunittest.main()"
   ]
  },
  {
   "cell_type": "markdown",
   "metadata": {},
   "source": [
    "\n",
    "_________________________________________________________________________\n",
    "Exercise 6:\n",
    "Write a program that calculates and prints the value according to the given formula: Q = Square root of [(2xCxD)/H]\n",
    "Following are the fixed values of C and H: C is 50. H is 30.\n",
    "D is the variable whose values should be input to your program in a comma-separated sequence.\n",
    "For example, let's assume the following comma-separated input sequence is given to the program: 100,150,180\n",
    "The output of the program should be: 18,22,24\n",
    "Hints: If the output received is in decimal form, it should be rounded off to its nearest value.\n",
    "Data is supplied through a console input."
   ]
  },
  {
   "cell_type": "code",
   "execution_count": 12,
   "metadata": {},
   "outputs": [
    {
     "name": "stdout",
     "output_type": "stream",
     "text": [
      "List some numbers separated by commas: 100,150,180\n",
      "18,22,24\n"
     ]
    }
   ],
   "source": [
    "from math import sqrt\n",
    "\n",
    "C = 50\n",
    "H = 30\n",
    "D = list(map(int, (input('List some numbers separated by commas: ').split(','))))\n",
    "Q = []\n",
    "\n",
    "for num in D:\n",
    "\tQ.append(str(round(sqrt(2*C*num/H))))\n",
    "\n",
    "print(','.join(Q))"
   ]
  },
  {
   "cell_type": "markdown",
   "metadata": {},
   "source": [
    "\n",
    "_________________________________________________________________________\n",
    "Exercise 7: Write a program which takes 2 digits, X,Y as input and generates a 2-dimensional array. The element value in the i-th row and j-th column of the array should be i*j.\n",
    "Suppose the following inputs are given to the program: 3,5\n",
    "Then, the output of the program should be: [[0, 0, 0, 0, 0], [0, 1, 2, 3, 4], [0, 2, 4, 6, 8]]\n",
    "Hints: In case of input data being supplied to the question, it should be assumed to be a console input in a comma-separated form."
   ]
  },
  {
   "cell_type": "code",
   "execution_count": 6,
   "metadata": {},
   "outputs": [
    {
     "name": "stdout",
     "output_type": "stream",
     "text": [
      "Enter 2 comma-separated numbers: 3,5\n",
      "[[0, 0, 0, 0, 0], [0, 1, 2, 3, 4], [0, 2, 4, 6, 8]]\n",
      "Enter 2 comma-separated numbers: 3,5\n",
      "[[0, 0, 0, 0, 0], [0, 1, 2, 3, 4], [0, 2, 4, 6, 8]]\n"
     ]
    }
   ],
   "source": [
    "# Solution 1: \n",
    "x,y = map(int, input('Enter 2 comma-separated numbers: ').split(','))\n",
    "out_lst = []\n",
    "\n",
    "for i in range(x):\n",
    "\tin_lst = []\n",
    "\tfor j in range(y):\n",
    "\t\tin_lst.append(i*j)\n",
    "\tout_lst.append(in_lst)\n",
    "\n",
    "print(out_lst)\n",
    "\n",
    "\n",
    "# Solution 2:\n",
    "x,y = map(int, input('Enter 2 comma-separated numbers: ').split(','))\n",
    "\n",
    "print([[a*b for b in range(y)] for a in range(x)])"
   ]
  },
  {
   "cell_type": "markdown",
   "metadata": {},
   "source": [
    "\n",
    "_________________________________________________________________\n",
    "Exercise 8: Write a program that accepts a comma separated sequence of words as a console input and prints the words in a comma-separated sequence after sorting them alphabetically.\n",
    "Suppose the following input is supplied to the program: without,hello,bag,world\n",
    "Then, the output should be: bag,hello,without,world"
   ]
  },
  {
   "cell_type": "code",
   "execution_count": 13,
   "metadata": {},
   "outputs": [
    {
     "name": "stdout",
     "output_type": "stream",
     "text": [
      "Please enter words to sort in comma-separated format: tener,hacer,comprender,llamar,querer,estar,salir,comprar,decir,pueder,saber,ser,necesitar\n",
      "comprar,comprender,decir,estar,hacer,llamar,necesitar,pueder,querer,saber,salir,ser,tener\n"
     ]
    }
   ],
   "source": [
    "# words = input('Please enter words to sort in comma-separated format: ').split(',')\n",
    "# words.sort()\n",
    "# print(\",\".join(words))\n",
    "\n",
    "# words = input('Please enter words to sort in comma-separated format: ').split(',')\n",
    "# sorted_words = sorted(words)\n",
    "# print(\",\".join(sorted_words))\n",
    "\n",
    "words = input('Please enter words to sort in comma-separated format: ').split(',')\n",
    "print(\",\".join(sorted(words)))"
   ]
  },
  {
   "cell_type": "markdown",
   "metadata": {},
   "source": [
    "\n",
    "_________________________________________________________________\n",
    "Exercise 9: Write a program that accepts a sequence of lines as input from a console and prints the lines after making all characters in the sentence capitalized.\n",
    "Suppose the following input is supplied to the program:\n",
    "Hello world\n",
    "Practice makes perfect\n",
    "Then, the output should be:\n",
    "HELLO WORLD\n",
    "PRACTICE MAKES PERFECT"
   ]
  },
  {
   "cell_type": "code",
   "execution_count": 14,
   "metadata": {},
   "outputs": [
    {
     "name": "stdout",
     "output_type": "stream",
     "text": [
      "At the prompt, please enter a line to convert to uppercase or enter x to exit: \n",
      "hi i'm dorothy\n",
      "this is toto\n",
      "i'm from kansas\n",
      "there's no place like home\n",
      "x\n",
      "HI I'M DOROTHY\n",
      "THIS IS TOTO\n",
      "I'M FROM KANSAS\n",
      "THERE'S NO PLACE LIKE HOME\n"
     ]
    }
   ],
   "source": [
    "lines = []\n",
    "print('At the prompt, please enter a line to convert to uppercase or enter x to exit: ')\n",
    "\n",
    "while True:\n",
    "\tline = input()\n",
    "\tline = line.upper()\n",
    "\tif line == 'X':\n",
    "\t\tbreak\n",
    "\tlines.append(line)\n",
    "\n",
    "print(\"\\n\".join(lines))"
   ]
  },
  {
   "cell_type": "markdown",
   "metadata": {},
   "source": [
    "\n",
    "_________________________________________________________________\n",
    "Exercise 10:\n",
    "Write a program that accepts a sequence of whitespace separated words as input from the console and prints the words after removing all duplicate words and sorting them alphanumerically.\n",
    "Suppose the following input is supplied to the program:\n",
    "hello world and practice makes perfect and hello world again\n",
    "Then, the output should be:\n",
    "again and hello makes perfect practice world\n",
    "Hints: We use set container to remove duplicated data automatically and then use sorted() to sort the data."
   ]
  },
  {
   "cell_type": "code",
   "execution_count": 15,
   "metadata": {},
   "outputs": [
    {
     "name": "stdout",
     "output_type": "stream",
     "text": [
      "please enter words here: hello world and practice makes perfect and hello world again\n",
      "again and hello makes perfect practice world\n"
     ]
    }
   ],
   "source": [
    "words = sorted(list(set(input('please enter words here: ').split(' '))))\n",
    "print(' '.join(words))"
   ]
  },
  {
   "cell_type": "markdown",
   "metadata": {},
   "source": [
    "\n",
    "_________________________________________________________________\n",
    "Exercise 11: Write a program which accepts a sequence of comma-separated 4-digit binary numbers as input from a console and then checks whether they are divisible by 5 or not. The numbers that are divisible by 5 are to be printed in a comma-separated sequence.\n",
    "Example: 0100,0011,1010,1001\n",
    "Then the output should be: 1010"
   ]
  },
  {
   "cell_type": "code",
   "execution_count": 16,
   "metadata": {},
   "outputs": [
    {
     "name": "stdout",
     "output_type": "stream",
     "text": [
      "Enter 4-digit binary numbers separated by commas: 0000,0100,0011,1010,1001,1111\n",
      "0000,1010,1111\n"
     ]
    }
   ],
   "source": [
    "# My program also validates that the user entry is correct\n",
    "# and only 4-digit binary numbers are entered.\n",
    "\n",
    "def get_input():\n",
    "\tbin_nums = input('Enter 4-digit binary numbers separated by commas: ').split(',')\n",
    "\treturn bin_nums\n",
    "\n",
    "binary_nums = get_input()\n",
    "\n",
    "while True:\n",
    "\ttry:\n",
    "\t\tfor i in binary_nums:\n",
    "\t\t\tif len(i) == 4: \n",
    "\t\t\t\tint_nums = [int(i, 2) for i in binary_nums]\n",
    "\t\t\telse:\n",
    "\t\t\t\tbinary_nums = get_input()\t\n",
    "\t\tbreak\n",
    "\texcept ValueError:\n",
    "\t\tbinary_nums = get_input()\n",
    "\n",
    "output_nums = []\n",
    "\n",
    "for i in int_nums:\n",
    "\tif i % 5 == 0:\n",
    "\t\tidx = int_nums.index(i)\n",
    "\t\toutput_num = binary_nums[idx]\n",
    "\t\toutput_nums.append(output_num)\n",
    "\t\n",
    "\t\t# i = bin(i)\n",
    "\t\t# first2, output_num = i[:1], i[2:]\n",
    "\n",
    "print(','.join(output_nums))"
   ]
  },
  {
   "cell_type": "markdown",
   "metadata": {},
   "source": [
    "\n",
    "______________________________________________________________\n",
    "Exercise 12: Write a program, which will find all numbers between 1000 and 3000 (both included) such that each digit of the number is an even number. The numbers obtained should be printed in a comma-separated sequence on a single line."
   ]
  },
  {
   "cell_type": "code",
   "execution_count": 17,
   "metadata": {},
   "outputs": [
    {
     "name": "stdout",
     "output_type": "stream",
     "text": [
      "2000,2002,2004,2006,2008,2020,2022,2024,2026,2028,2040,2042,2044,2046,2048,2060,2062,2064,2066,2068,2080,2082,2084,2086,2088,2200,2202,2204,2206,2208,2220,2222,2224,2226,2228,2240,2242,2244,2246,2248,2260,2262,2264,2266,2268,2280,2282,2284,2286,2288,2400,2402,2404,2406,2408,2420,2422,2424,2426,2428,2440,2442,2444,2446,2448,2460,2462,2464,2466,2468,2480,2482,2484,2486,2488,2600,2602,2604,2606,2608,2620,2622,2624,2626,2628,2640,2642,2644,2646,2648,2660,2662,2664,2666,2668,2680,2682,2684,2686,2688,2800,2802,2804,2806,2808,2820,2822,2824,2826,2828,2840,2842,2844,2846,2848,2860,2862,2864,2866,2868,2880,2882,2884,2886,2888\n"
     ]
    }
   ],
   "source": [
    "output_nums = []\n",
    "\n",
    "for num in range(1000,3001):\t\n",
    "\tnum2str = str(num)\n",
    "\tfor i, digit in enumerate(num2str):\n",
    "\t\tif int(digit) % 2 != 0:\n",
    "\t\t\tbreak\n",
    "\t\telse:\n",
    "\t\t\tif i == 3:\n",
    "\t\t\t\toutput_nums.append(num2str)\n",
    "\n",
    "print(','.join(output_nums))"
   ]
  },
  {
   "cell_type": "markdown",
   "metadata": {},
   "source": [
    "\n",
    "______________________________________________________________________________________________________________________\n",
    "Exercise 13: Write a program that accepts a sentence and calculate the number of letters and digits.\n",
    "Suppose the following input is supplied to the program:\n",
    "hello world! 123\n",
    "Then, the output should be (on separate lines):\n",
    "LETTERS 10\n",
    "DIGITS 3"
   ]
  },
  {
   "cell_type": "code",
   "execution_count": 18,
   "metadata": {},
   "outputs": [
    {
     "name": "stdout",
     "output_type": "stream",
     "text": [
      "Write a sentence here: On the 12th day of Christmas my true love sent to me, 12 drummers drumming, 11 pipers piping, 10 lords a-leaping, 9 ladies dancing, 8 maids a-milking, 7 swans a-swimming, 6 geese a-laying, 5 golden rings, 4 calling birds, 3 french hens, 2 turtle doves, and a partridge in a pear tree.\n",
      "LETTERS 200\n",
      "DIGITS 16\n"
     ]
    }
   ],
   "source": [
    "# one solution which uses ascii codes\n",
    "\n",
    "sentence = input('Write a sentence here: ')\n",
    "\n",
    "letters = []\n",
    "digits = []\n",
    "\n",
    "for char in sentence:\n",
    "\t#ascii A-Z 65-90, a-z 97-122, 0-9 48-57\n",
    "\tif (64 < ord(char) < 91) or (96 < ord(char) < 123):\n",
    "\t\tletters.append(char)\n",
    "\telif (47 < ord(char) < 58):\n",
    "\t\tdigits.append(char)\n",
    "\n",
    "print('LETTERS ' + str(len(letters)))\n",
    "print('DIGITS ' + str(len(digits)))"
   ]
  },
  {
   "cell_type": "code",
   "execution_count": 19,
   "metadata": {},
   "outputs": [
    {
     "name": "stdout",
     "output_type": "stream",
     "text": [
      "Write a sentence here: On the 12th day of Christmas my true love sent to me, 12 drummers drumming, 11 pipers piping, 10 lords a-leaping, 9 ladies dancing, 8 maids a-milking, 7 swans a-swimming, 6 geese a-laying, 5 golden rings, 4 calling birds, 3 french hens, 2 turtle doves, and a partridge in a pear tree.\n",
      "LETTERS 200\n",
      "DIGITS 16\n"
     ]
    }
   ],
   "source": [
    "# another solution with regexs\n",
    "\n",
    "import re\n",
    "\n",
    "sentence = input('Write a sentence here: ')\n",
    "\n",
    "counter = 'LETTERS ' + str(len(re.findall(\"[a-zA-Z]\", sentence))) + '\\nDIGITS ' + str(len(re.findall(\"[0-9]\", sentence)))\n",
    "\n",
    "print(counter)"
   ]
  },
  {
   "cell_type": "markdown",
   "metadata": {},
   "source": [
    "\n",
    "______________________________________________________________________________________________________________________\n",
    "Exercise 14: Write a program that accepts a sentence from a console input, and calculate the number of uppercase letters and lowercase letters.\n",
    "Suppose the following input is supplied to the program: Hello world!\n",
    "Then, the output should be (on separate lines):\n",
    "UPPERCASE 1\n",
    "LOWERCASE 9"
   ]
  },
  {
   "cell_type": "code",
   "execution_count": 20,
   "metadata": {},
   "outputs": [
    {
     "name": "stdout",
     "output_type": "stream",
     "text": [
      "Write a sentence here: Dorothy and Toto were from Kansas, and they met the Scarecrow, the Cowardly Lion, and the Tin Man on their way to Oz.\n",
      "UPPERCASE 9\n",
      "LOWERCASE 82\n"
     ]
    }
   ],
   "source": [
    "# I include 4 possible solutions, 2 are similar to exercise 13 solutions.\n",
    "# using regexs\n",
    "\n",
    "import re\n",
    "\n",
    "sentence = input('Write a sentence here: ')\n",
    "\n",
    "counter = 'UPPERCASE ' + str(len(re.findall(\"[A-Z]\", sentence))) + '\\nLOWERCASE ' + str(len(re.findall(\"[a-z]\", sentence)))\n",
    "\n",
    "print(counter)"
   ]
  },
  {
   "cell_type": "code",
   "execution_count": 21,
   "metadata": {},
   "outputs": [
    {
     "name": "stdout",
     "output_type": "stream",
     "text": [
      "Write a sentence here: Dorothy and Toto were from Kansas, and they met the Scarecrow, the Cowardly Lion, and the Tin Man on their way to Oz.\n",
      "UPPERCASE 9\n",
      "LOWERCASE 82\n"
     ]
    }
   ],
   "source": [
    "# using string methods isupper() and islower()\n",
    "\n",
    "sentence = input('Write a sentence here: ')\n",
    "uc,lc = 0,0\n",
    "\n",
    "for i in sentence:\n",
    "    if i.isupper(): # returns True if uppercase\n",
    "        uc += 1\n",
    "    elif i.islower(): # returns True if lowercase\n",
    "        lc += 1\n",
    "print(f'UPPERCASE {uc}\\nLOWERCASE {lc}') #f-string formatting"
   ]
  },
  {
   "cell_type": "code",
   "execution_count": 22,
   "metadata": {},
   "outputs": [
    {
     "name": "stdout",
     "output_type": "stream",
     "text": [
      "Write a sentence here: Dorothy and Toto were from Kansas, and they met the Scarecrow, the Cowardly Lion, and the Tin Man on their way to Oz.\n",
      "UPPERCASE 9\n",
      "LOWERCASE 82\n"
     ]
    }
   ],
   "source": [
    "# using a simple conditional statement, incrementor, .format method\n",
    "\n",
    "sentence = input('Write a sentence here: ')\n",
    "uc,lc = 0,0\n",
    "\n",
    "for i in sentence:\n",
    "    if ('A' <= i <= 'Z'): \n",
    "        uc += 1\n",
    "    elif ('a' <= i <= 'z'):\n",
    "        lc += 1\n",
    "\n",
    "print('UPPERCASE {}\\nLOWERCASE {}'.format(uc,lc)) #formatting with .format method"
   ]
  },
  {
   "cell_type": "code",
   "execution_count": 23,
   "metadata": {},
   "outputs": [
    {
     "name": "stdout",
     "output_type": "stream",
     "text": [
      "Write a sentence here: Dorothy and Toto were from Kansas, and they met the Scarecrow, the Cowardly Lion, and the Tin Man on their way to Oz.\n",
      "UPPERCASE 9\n",
      "LOWERCASE 82\n"
     ]
    }
   ],
   "source": [
    "# using ascii characters\n",
    "\n",
    "sentence = input('Write a sentence here: ')\n",
    "\n",
    "uc = []\n",
    "lc = []\n",
    "\n",
    "for char in sentence:\n",
    "\t#ascii A-Z 65-90, a-z 97-122\n",
    "\tif (64 < ord(char) < 91):\n",
    "\t\tuc.append(char)\n",
    "\telif (96 < ord(char) < 123):\n",
    "\t\tlc.append(char)\n",
    "\n",
    "print('UPPERCASE ' + str(len(uc)))\n",
    "print('LOWERCASE ' + str(len(lc)))"
   ]
  },
  {
   "cell_type": "markdown",
   "metadata": {},
   "source": [
    "\n",
    "______________________________________________________________________________________________________________________\n",
    "Exercise 15: \n",
    "Write a program that computes the value of a+aa+aaa+aaaa with a given digit (input from the console) as the value of a.\n",
    "Suppose the following input is supplied to the program: 9\n",
    "Then, the output should be: 11106"
   ]
  },
  {
   "cell_type": "code",
   "execution_count": 24,
   "metadata": {},
   "outputs": [
    {
     "name": "stdout",
     "output_type": "stream",
     "text": [
      "Enter a digit, which I will call 'a', and I will return the value of a+aa+aaa+aaaa: 9\n",
      "11106\n"
     ]
    }
   ],
   "source": [
    "# solution 1\n",
    "a = input('Enter a digit, which I will call \\'a\\', and I will return the value of a+aa+aaa+aaaa: ')\n",
    "\n",
    "print(sum(int(a * i) for i in range(1,5)))"
   ]
  },
  {
   "cell_type": "code",
   "execution_count": 25,
   "metadata": {},
   "outputs": [
    {
     "name": "stdout",
     "output_type": "stream",
     "text": [
      "Enter a digit, which I will call 'a', and I will return the value of a+aa+aaa+aaaa: 9\n",
      "11106\n"
     ]
    }
   ],
   "source": [
    "# solution 2\n",
    "a = input('Enter a digit, which I will call \\'a\\', and I will return the value of a+aa+aaa+aaaa: ')\n",
    "total, temp = 0, ''  #initialing an integer as an accumulator and empty string for concatenating the string variable a\n",
    "\n",
    "for i in range(4):\n",
    "    temp+=a  #concatenating 'a' to 'temp'\n",
    "    total+=int(temp) #converting str temp to int and adding to the accumulator\n",
    "\n",
    "print(total)"
   ]
  },
  {
   "cell_type": "code",
   "execution_count": 26,
   "metadata": {},
   "outputs": [
    {
     "name": "stdout",
     "output_type": "stream",
     "text": [
      "Enter a digit, which I will call 'a', and I will return the value of a+aa+aaa+aaaa: 9\n",
      "11106\n"
     ]
    }
   ],
   "source": [
    "# solution 3, use reduce and lambda\n",
    "from functools import reduce\n",
    "\n",
    "a = input('Enter a digit, which I will call \\'a\\', and I will return the value of a+aa+aaa+aaaa: ')\n",
    "a_list = [int(a*i) for i in range(1,5)]\n",
    "\n",
    "print(reduce(lambda acc, item: acc + item, a_list))"
   ]
  },
  {
   "cell_type": "code",
   "execution_count": 27,
   "metadata": {},
   "outputs": [
    {
     "name": "stdout",
     "output_type": "stream",
     "text": [
      "Enter a digit, which I will call 'a', and I will return the value of a+aa+aaa+aaaa: 9\n",
      "11106\n"
     ]
    }
   ],
   "source": [
    "# solution 4\n",
    "a = int(input('Enter a digit, which I will call \\'a\\', and I will return the value of a+aa+aaa+aaaa: '))\n",
    "num_list = [a*1*4, a*10*3, a*100*2, a*1000*1]\n",
    "\n",
    "print(sum(num_list))"
   ]
  },
  {
   "cell_type": "code",
   "execution_count": 28,
   "metadata": {},
   "outputs": [
    {
     "name": "stdout",
     "output_type": "stream",
     "text": [
      "Enter a digit, which I will call 'a', and I will return the value of a+aa+aaa+aaaa: 9\n",
      "11106\n"
     ]
    }
   ],
   "source": [
    "# solution 5\n",
    "a = int(input('Enter a digit, which I will call \\'a\\', and I will return the value of a+aa+aaa+aaaa: '))\n",
    "aa = a*10 + a \n",
    "aaa = a*100 + aa\n",
    "aaaa = a*1000 + aaa\n",
    "calc =  a+aa+aaa+aaaa\n",
    "\n",
    "print(calc)"
   ]
  },
  {
   "cell_type": "markdown",
   "metadata": {},
   "source": [
    "\n",
    "______________________________________________________________________\n",
    "Exercise 16: Use a list comprehension to square each odd number in a list.  The list is input from the console by a sequence of comma-separated numbers.\n",
    "Suppose the following input is supplied to the program:\n",
    "1,2,3,4,5,6,7,8,9\n",
    "Then, the output should be:\n",
    "1,9,25,49,81"
   ]
  },
  {
   "cell_type": "code",
   "execution_count": 29,
   "metadata": {},
   "outputs": [
    {
     "name": "stdout",
     "output_type": "stream",
     "text": [
      "Enter a sequence of comma-separated numbers: 1,2,3,4,5,6,7,8,9\n",
      "1,9,25,49,81\n"
     ]
    }
   ],
   "source": [
    "# str2int = [int(num) for num in input('Enter a sequence of comma-separated numbers: ').split(',')]\n",
    "# sq_odd_nums = [str(num**2) for num in str2int if num % 2 == 1]\n",
    "# print(','.join(sq_odd_nums))\n",
    "\n",
    "sq_odd_nums = [str(int(num)**2) for num in input('Enter a sequence of comma-separated numbers: ').split(',') if int(num) % 2]\n",
    "print(','.join(sq_odd_nums))"
   ]
  },
  {
   "cell_type": "markdown",
   "metadata": {},
   "source": [
    "\n",
    "______________________________________________________________________\n",
    "Exercise 17: Write a program that computes the net amount of a bank\n",
    "account based a transaction log from console input.\n",
    "The transaction log format is shown as following:\n",
    "D means deposit while W means withdrawal.\n",
    "Suppose the following input is supplied to the program:\n",
    "D 300\n",
    "D 300\n",
    "W 200\n",
    "D 100\n",
    "Then, the output should be:\n",
    "500"
   ]
  },
  {
   "cell_type": "code",
   "execution_count": 1,
   "metadata": {},
   "outputs": [
    {
     "name": "stdout",
     "output_type": "stream",
     "text": [
      "Enter 'D' for deposit or 'W' for withdrawal and the transaction amount, or press enter if no more transactions to enter.\n",
      "d$4,000\n",
      "D 1000.00\n",
      "w $900.00\n",
      "W100\n",
      "W0.50\n",
      "\n",
      "3999.50\n"
     ]
    }
   ],
   "source": [
    "# solution 1: use regex, using decimal module for format to 2 decimal places if not balance not whole number\n",
    "\n",
    "import re, decimal\n",
    "\n",
    "balance = 0\n",
    "print('Enter \\'D\\' for deposit or \\'W\\' for withdrawal and the transaction amount, or press enter if no more transactions to enter.')\n",
    "\n",
    "while True:\n",
    "\ttransaction = input()\n",
    "\ttransaction = transaction.upper().replace(',','')\n",
    "\tamt = re.search(\"(\\d*)(\\.?)(\\d{0,2}$)\", transaction)\n",
    "\tif 'D' in transaction:\n",
    "\t\tbalance += float(amt.group())\n",
    "\telif 'W' in transaction:\n",
    "\t\tbalance -= float(amt.group())\n",
    "\telse:\n",
    "\t\tbreak\n",
    "\n",
    "if str(balance).endswith('.0'):\n",
    "\tf_bal = int(balance)\n",
    "else:\n",
    "\tcents = decimal.Decimal('0.00')\n",
    "\tbalance = decimal.Decimal(balance)\n",
    "\tf_bal = balance.quantize(cents)\n",
    "\t\n",
    "print(f_bal)"
   ]
  },
  {
   "cell_type": "code",
   "execution_count": 4,
   "metadata": {},
   "outputs": [
    {
     "name": "stdout",
     "output_type": "stream",
     "text": [
      "Enter 'D' for deposit or 'W' for withdrawal and the transaction amount, or press enter if no more transactions to enter.\n",
      "d$4000\n",
      "D 1,000.00\n",
      "W100.00\n",
      "w $900.50\n",
      "\n",
      "3999.50\n"
     ]
    }
   ],
   "source": [
    "# solution 2: using string formatting to format to 2 decimal places if not balance not whole number\n",
    "\n",
    "balance = 0\n",
    "print('Enter \\'D\\' for deposit or \\'W\\' for withdrawal and the transaction amount, or press enter if no more transactions to enter.')\n",
    "\n",
    "while True:\n",
    "\ttransaction = input()\n",
    "\ttransaction = transaction.upper().replace(',','')\n",
    "\tif 'D' in transaction:\n",
    "\t\td_amt = float(transaction.lstrip('DW $'))\n",
    "\t\tbalance += d_amt\n",
    "\telif 'W' in transaction:\n",
    "\t\tw_amt = float(transaction.lstrip('DW $'))\n",
    "\t\tbalance -= w_amt\n",
    "\telse:\n",
    "\t\tbreak\n",
    "\n",
    "if str(balance).endswith('.0'):\n",
    "\tf_bal = int(balance)\n",
    "else:\n",
    "\tf_bal = \"{0:.2f}\".format(balance)\n",
    "\n",
    "print(f_bal)"
   ]
  },
  {
   "cell_type": "code",
   "execution_count": 5,
   "metadata": {},
   "outputs": [
    {
     "name": "stdout",
     "output_type": "stream",
     "text": [
      "Enter 'D' for deposit or 'W' for withdrawal and the transaction amount, or press enter if no more transactions to enter.\n",
      "W100\n",
      "D$4,000.00\n",
      "d 1000\n",
      "w $900.50\n",
      "\n",
      "3999.50\n"
     ]
    }
   ],
   "source": [
    "#solution 3: same as above with % operator to set precision of floating point value\n",
    "\n",
    "balance = 0\n",
    "print('Enter \\'D\\' for deposit or \\'W\\' for withdrawal and the transaction amount, or press enter if no more transactions to enter.')\n",
    "\n",
    "while True:\n",
    "\ttransaction = input()\n",
    "\ttransaction = transaction.upper().replace(',','')\n",
    "\tif 'D' in transaction:\n",
    "\t\td_amt = float(transaction.lstrip('DW $'))\n",
    "\t\tbalance += d_amt\n",
    "\telif 'W' in transaction:\n",
    "\t\tw_amt = float(transaction.lstrip('DW $'))\n",
    "\t\tbalance -= w_amt\n",
    "\telse:\n",
    "\t\tbreak\n",
    "\n",
    "if str(balance).endswith('.0'):\n",
    "\tprint(int(balance))\n",
    "else:\n",
    "\tprint('%.2f'%balance)"
   ]
  },
  {
   "cell_type": "markdown",
   "metadata": {},
   "source": [
    "\n",
    "_____________________________________________________________________\n",
    "Exercise 18: A website requires the users to input username and password to register. Write a program to check the validity of password input by users.\n",
    "Following are the criteria for checking the password:\n",
    "At least 1 letter between [a-z]\n",
    "At least 1 number between [0-9]\n",
    "At least 1 letter between [A-Z]\n",
    "At least 1 character from [$#@]\n",
    "Minimum length of transaction password: 6\n",
    "Maximum length of transaction password: 12\n",
    "Your program should accept a sequence of comma-separated passwords and will check them according to the above criteria. Passwords that match the criteria are to be printed, each separated by a comma.\n",
    "\n",
    "Example: If the following passwords are given as input to the program:\n",
    "ABd1234@1,a F1#,2w3E*,2We3345\n",
    "Then, the output of the program should be:\n",
    "ABd1234@1\n",
    "\n",
    "Hints: In case of input data being supplied to the question, it should be assumed to be a console input."
   ]
  },
  {
   "cell_type": "code",
   "execution_count": 1,
   "metadata": {},
   "outputs": [
    {
     "name": "stdout",
     "output_type": "stream",
     "text": [
      "Enter passwords to validate in comma-separated format: ABd1234@1,a F1#,2w3E*,2We3345\n",
      "ABd1234@1\n"
     ]
    }
   ],
   "source": [
    "#Using a regular expression:\n",
    "import re\n",
    "\n",
    "def validate(pass2chk):\n",
    "    good_pass = []\n",
    "    for pw in pass2chk:\n",
    "        if len(pw) < 6 or len(pw) > 12:\n",
    "            continue\n",
    "        elif re.search('[a-z]',pw) is None:\n",
    "            continue\n",
    "        elif re.search('[0-9]',pw) is None:\n",
    "            continue\n",
    "        elif re.search('[A-Z]',pw) is None: \n",
    "            continue\n",
    "        elif re.search('[$#@]', pw) is None:\n",
    "            continue\n",
    "        else:\n",
    "            good_pass.append(pw)\n",
    "    return good_pass\n",
    "\n",
    "output_list = validate(input('Enter passwords to validate in comma-separated format: ').split(','))\n",
    "\n",
    "print(','.join(output_list))"
   ]
  },
  {
   "cell_type": "code",
   "execution_count": 8,
   "metadata": {},
   "outputs": [
    {
     "name": "stdout",
     "output_type": "stream",
     "text": [
      "Enter passwords to validate in comma-separated format: hello,Hell0w@rldhihi,HELLO123$,Hello#,hello123@,HelloWorld$,Hello#123HI,ABd1234@1,a F1#,2w3E*,2We3345\n",
      "Hello#123HI,ABd1234@1\n"
     ]
    }
   ],
   "source": [
    "#solve using filter, string methods and counter \n",
    "def checkpass(pw):\n",
    "    condMet = 0\n",
    "    if 6 <= len(pw) <= 12:\n",
    "        for char in pw:\n",
    "            if char.islower():\n",
    "                condMet+=1\n",
    "                break\n",
    "        for char in pw:    \n",
    "            if char.isdigit():\n",
    "                condMet+=1\n",
    "                break\n",
    "        for char in pw:\n",
    "            if char.isupper(): \n",
    "                condMet+=1\n",
    "                break\n",
    "        for char in pw:\n",
    "            if char == '$' or char == '#' or char == '@':\n",
    "                condMet+=1\n",
    "                break\n",
    "        return condMet == 4\n",
    "\n",
    "pass2chk = input('Enter passwords to validate in comma-separated format: ').split(',')\n",
    "good_pass = filter(checkpass, pass2chk)\n",
    "\n",
    "print(','.join(good_pass))"
   ]
  },
  {
   "cell_type": "markdown",
   "metadata": {},
   "source": [
    "\n",
    "_____________________________________________________________________\n",
    "Exercise 19: Write a program to sort the (name, age, score) tuples by ascending order where name is string, age and score are numbers. The tuples are input by console. The sort criteria is:\n",
    "1: Sort based on name\n",
    "2: Then sort based on age\n",
    "3: Then sort by score\n",
    "The priority is that name > age > score.\n",
    "If the following tuples are given as input to the program:\n",
    "Tom,19,80\n",
    "John,20,90\n",
    "Jony,17,91\n",
    "Jony,17,93\n",
    "Json,21,85\n",
    "Then, the output of the program should be:\n",
    "[('John', '20', '90'), ('Jony', '17', '91'), ('Jony', '17', '93'), ('Json', '21', '85'), ('Tom', '19', '80')]\n",
    "Hints: We use item getter to enable multiple sort keys."
   ]
  },
  {
   "cell_type": "code",
   "execution_count": 2,
   "metadata": {},
   "outputs": [
    {
     "name": "stdout",
     "output_type": "stream",
     "text": [
      "Input comma-separate values in this order, name,age,score. When done press enter.\n",
      "Jack,16,95\n",
      "Jill,20,90\n",
      "John,18,99\n",
      "Jane,17,97\n",
      "John,17,100\n",
      "Donald,19,93\n",
      "Daffy,20,98\n",
      "Jill,20,89\n",
      "\n",
      "[('Daffy', '20', '98'), ('Donald', '19', '93'), ('Jack', '16', '95'), ('Jane', '17', '97'), ('Jill', '20', '89'), ('Jill', '20', '90'), ('John', '17', '100'), ('John', '18', '99')]\n"
     ]
    }
   ],
   "source": [
    "from operator import itemgetter\n",
    "\n",
    "print('Input comma-separate values in this order, name,age,score. When done press enter.')\n",
    "\n",
    "entries = []\n",
    "\n",
    "while True:\n",
    "\tentry = input()\n",
    "\tif not entry:\n",
    "\t\tbreak\n",
    "\telse: \n",
    "\t\tentry = tuple(entry.split(','))\n",
    "\t\tentries.append(entry)\n",
    "\n",
    "print(sorted(entries, key=itemgetter(0,1,2)))"
   ]
  },
  {
   "cell_type": "markdown",
   "metadata": {},
   "source": [
    "\n",
    "_____________________________________________________________________\n",
    "Exercise 20: Define a class with a generator which can iterate the numbers, which are divisible by 7, between a given range 0 and n.\n",
    "Hints: Consider use class, function and comprehension."
   ]
  },
  {
   "cell_type": "code",
   "execution_count": 7,
   "metadata": {},
   "outputs": [
    {
     "name": "stdout",
     "output_type": "stream",
     "text": [
      "I will find all the numbers divisible by 7. What number should I go up to? 100\n",
      "0\n",
      "7\n",
      "14\n",
      "21\n",
      "28\n",
      "35\n",
      "42\n",
      "49\n",
      "56\n",
      "63\n",
      "70\n",
      "77\n",
      "84\n",
      "91\n",
      "98\n"
     ]
    }
   ],
   "source": [
    "#Solution with generator class\n",
    "class MyGen():\n",
    "\t\n",
    "\tdef div_by_7(self, num):\n",
    "\t\tfor i in range(num):\n",
    "\t\t\tif i % 7 == 0:\n",
    "\t\t\t\tyield i\n",
    "\n",
    "myGen1 = MyGen()\n",
    "stop = int(input('I will find all the numbers divisible by 7. What number should I go up to? '))\n",
    "result = myGen1.div_by_7(stop)\n",
    "for item in result:\n",
    "\tprint(item)"
   ]
  },
  {
   "cell_type": "code",
   "execution_count": 3,
   "metadata": {},
   "outputs": [
    {
     "name": "stdout",
     "output_type": "stream",
     "text": [
      "Give me the second number in a range that begins at 0: 100\n",
      "0\n",
      "7\n",
      "14\n",
      "21\n",
      "28\n",
      "35\n",
      "42\n",
      "49\n",
      "56\n",
      "63\n",
      "70\n",
      "77\n",
      "84\n",
      "91\n",
      "98\n"
     ]
    }
   ],
   "source": [
    "#Solution creating a generator class that creates range function and using generator comprehension.\n",
    "class MyGen():\n",
    "    current = 0 \n",
    "    def __init__(self, first, last):\n",
    "        self.first = first\n",
    "        self.last = last\n",
    "        \n",
    "    def __iter__(self):\n",
    "        return self\n",
    "    \n",
    "    def __next__(self):\n",
    "        if MyGen.current < self.last:\n",
    "            num = MyGen.current\n",
    "            MyGen.current +=1\n",
    "            return num\n",
    "        raise StopIteration\n",
    "\n",
    "n = int(input('Give me the second number in a range that begins at 0: '))   \n",
    "gen = MyGen(0,n)\n",
    "div_by_7 = (i for i in gen if i % 7 == 0)\n",
    "for item in div_by_7:\n",
    "\tprint(item)"
   ]
  },
  {
   "cell_type": "code",
   "execution_count": 4,
   "metadata": {},
   "outputs": [
    {
     "name": "stdout",
     "output_type": "stream",
     "text": [
      "I will find all the numbers divisible by 7. What number should I go up to? 100\n",
      "0\n",
      "7\n",
      "14\n",
      "21\n",
      "28\n",
      "35\n",
      "42\n",
      "49\n",
      "56\n",
      "63\n",
      "70\n",
      "77\n",
      "84\n",
      "91\n",
      "98\n"
     ]
    }
   ],
   "source": [
    "# Solution using generator function but not class or comprehension\n",
    "def div_by_7(num):\n",
    "\t\tfor i in range(num):\n",
    "\t\t\tif i % 7 == 0:\n",
    "\t\t\t\tyield i\n",
    "\n",
    "num = int(input('I will find all the numbers divisible by 7. What number should I go up to? '))\n",
    "for item in div_by_7(num):\n",
    "\tprint(item)"
   ]
  },
  {
   "cell_type": "code",
   "execution_count": 5,
   "metadata": {},
   "outputs": [
    {
     "name": "stdout",
     "output_type": "stream",
     "text": [
      "I will find all the numbers divisible by 7. What number should I go up to? 100\n",
      "0 7 14 21 28 35 42 49 56 63 70 77 84 91 98\n"
     ]
    }
   ],
   "source": [
    "#Solution with generator comprehension\n",
    "num = int(input('I will find all the numbers divisible by 7. What number should I go up to? '))\n",
    "print(*(i for i in range(num) if i % 7 == 0))"
   ]
  },
  {
   "cell_type": "code",
   "execution_count": 6,
   "metadata": {},
   "outputs": [
    {
     "name": "stdout",
     "output_type": "stream",
     "text": [
      "I will find all the numbers divisible by 7. What number should I go up to? 100\n",
      "0\n",
      "7\n",
      "14\n",
      "21\n",
      "28\n",
      "35\n",
      "42\n",
      "49\n",
      "56\n",
      "63\n",
      "70\n",
      "77\n",
      "84\n",
      "91\n",
      "98\n"
     ]
    }
   ],
   "source": [
    "# Solution - another attempt\n",
    "stop = int(input('I will find all the numbers divisible by 7. What number should I go up to? '))\n",
    "div_by_7 = (i for i in range(stop) if i % 7 == 0)\n",
    "for item in div_by_7:\n",
    "\tprint(item)"
   ]
  },
  {
   "cell_type": "markdown",
   "metadata": {},
   "source": [
    "\n",
    "_____________________________________________________________________\n",
    "Exercise 21: A robot moves in a plane starting from the original point (0,0). The robot can move toward UP, DOWN, LEFT and RIGHT with a given steps. The trace of robot movement is shown as the following:\n",
    "UP 5\n",
    "DOWN 3\n",
    "LEFT 3\n",
    "RIGHT 2\n",
    "The numbers after the direction are steps. Please write a program to compute the distance from current position after a sequence of movement and original point. If the distance is a float, then just print the nearest integer.\n",
    "Example: If the following tuples are given as input:\n",
    "UP 5\n",
    "DOWN 3\n",
    "LEFT 3\n",
    "RIGHT 2\n",
    "Then, the output of the program should be:\n",
    "2\n",
    "Hints: In case of input data being supplied to the question, it should be assumed to be a console input. Here distance indicates to euclidean distance. Import math module to use sqrt function."
   ]
  },
  {
   "cell_type": "code",
   "execution_count": 11,
   "metadata": {},
   "outputs": [
    {
     "name": "stdout",
     "output_type": "stream",
     "text": [
      "How many steps up? 5\n",
      "How many steps down? 3\n",
      "How many steps left? 3\n",
      "How many steps right? 2\n",
      "2\n"
     ]
    }
   ],
   "source": [
    "#Solution 1:\n",
    "from math import sqrt\n",
    "\n",
    "u = ('UP', int(input('How many steps up? ')))\n",
    "d = ('DOWN', int(input('How many steps down? ')))\n",
    "l = ('LEFT', int(input('How many steps left? ')))\n",
    "r = ('RIGHT', int(input('How many steps right? ')))\n",
    "\n",
    "x = 0\n",
    "y = 0\n",
    "\n",
    "dist_moved = round(sqrt((x - l[1] + r[1])**2 + (y - d[1] + u[1])**2))\n",
    "print(dist_moved)"
   ]
  },
  {
   "cell_type": "code",
   "execution_count": 12,
   "metadata": {},
   "outputs": [
    {
     "name": "stdout",
     "output_type": "stream",
     "text": [
      "Please enter movement direction and number of steps separated by spaces like this:\n",
      "UP 1 DOWN 2 LEFT 3 RIGHT 4\n",
      "UP 5 DOWN 3 LEFT 3 RIGHT 2\n",
      "2\n"
     ]
    }
   ],
   "source": [
    "#Solution 2: different input\n",
    "from math import sqrt\n",
    "\n",
    "print('Please enter movement direction and number of steps separated by spaces like this:\\nUP 1 DOWN 2 LEFT 3 RIGHT 4')\n",
    "moves = [i.upper() for i in input().split(' ')]\n",
    "\n",
    "u = moves.index('UP')+1\n",
    "d = moves.index('DOWN')+1\n",
    "l = moves.index('LEFT')+1\n",
    "r = moves.index('RIGHT')+1\n",
    "\n",
    "x_change = int(moves[r])-int(moves[l])\n",
    "y_change = int(moves[u])-int(moves[d])\n",
    "\n",
    "print(round(sqrt(x_change**2 + y_change**2)))"
   ]
  },
  {
   "cell_type": "markdown",
   "metadata": {},
   "source": [
    "\n",
    "_________________________________________________________________________\n",
    "Exercise 22: Write a program to compute the frequency of the words from the input. The output should output after sorting the key alphanumerically.\n",
    "Suppose the following input is supplied to the program:\n",
    "New to Python or choosing between Python 2 and Python 3? Read Python 2 or Python 3.\n",
    "Then, the output should be:\n",
    "2:2\n",
    "3.:1\n",
    "3?:1\n",
    "New:1\n",
    "Python:5\n",
    "Read:1\n",
    "and:1\n",
    "between:1\n",
    "choosing:1\n",
    "or:2\n",
    "to:1"
   ]
  },
  {
   "cell_type": "code",
   "execution_count": 3,
   "metadata": {},
   "outputs": [
    {
     "name": "stdout",
     "output_type": "stream",
     "text": [
      "Enter a sentence, and I will count the number of times each word is used. New to Python or choosing between Python 2 and Python 3? Read Python 2 or Python 3.\n",
      "2:2\n",
      "3.:1\n",
      "3?:1\n",
      "New:1\n",
      "Python:5\n",
      "Read:1\n",
      "and:1\n",
      "between:1\n",
      "choosing:1\n",
      "or:2\n",
      "to:1\n"
     ]
    }
   ],
   "source": [
    "#Solution 1 using defaultdict(int) to count\n",
    "\n",
    "from collections import defaultdict \n",
    "\n",
    "sentence = sorted(input('Enter a sentence, and I will count the number of times each word is used. ').split(' '))\n",
    "\n",
    "d = defaultdict(int) #use defaultdict with parameter int to count\n",
    "\n",
    "for k in sorted_sent:\n",
    "#When k is first encountered, it is missing from the mapping\n",
    "#default_factory function calls int() to supply a default count of zero.\n",
    "\td[k] += 1 #for each occurence of key, value increments\n",
    "\n",
    "for k,v in d.items():\n",
    "\tprint(k + ':' + str(v))"
   ]
  },
  {
   "cell_type": "code",
   "execution_count": 4,
   "metadata": {},
   "outputs": [
    {
     "name": "stdout",
     "output_type": "stream",
     "text": [
      "Enter a sentence, and I will count the number of times each word is used. New to Python or choosing between Python 2 and Python 3? Read Python 2 or Python 3.\n",
      "2:2\n",
      "3.:1\n",
      "3?:1\n",
      "New:1\n",
      "Python:5\n",
      "Read:1\n",
      "and:1\n",
      "between:1\n",
      "choosing:1\n",
      "or:2\n",
      "to:1\n"
     ]
    }
   ],
   "source": [
    "#Solution 2 using counter\n",
    "\n",
    "sentence = sorted(input('Enter a sentence, and I will count the number of times each word is used. ').split(' '))\n",
    "item_count_dict = {}\n",
    "\n",
    "for item in sentence:\n",
    "\tif item in item_count_dict:\n",
    "\t\titem_count_dict[item] += 1 #for each occurence of key, value increments\n",
    "\telse:\n",
    "\t\titem_count_dict[item] = 1\n",
    "\n",
    "for item,count in item_count_dict.items():\n",
    "\tprint(item + ':' + str(count))"
   ]
  },
  {
   "cell_type": "code",
   "execution_count": 7,
   "metadata": {},
   "outputs": [
    {
     "name": "stdout",
     "output_type": "stream",
     "text": [
      "Enter a sentence, and I will count the number of times each word is used. New to Python or choosing between Python 2 and Python 3? Read Python 2 or Python 3.\n",
      "2:2\n",
      "3.:1\n",
      "3?:1\n",
      "New:1\n",
      "Python:5\n",
      "Read:1\n",
      "and:1\n",
      "between:1\n",
      "choosing:1\n",
      "or:2\n",
      "to:1\n"
     ]
    }
   ],
   "source": [
    "#Solution 3 - split input at spaces, sort them in a set to remove duplicates\n",
    "#print each word from sorted set:number of times it occurs in the original list\n",
    "\n",
    "sentence = input('Enter a sentence, and I will count the number of times each word is used. ').split(' ')\n",
    "words = sorted(set(sentence))\n",
    "for w in words:\n",
    "    print(f'{w}:{(sentence.count(w))}')"
   ]
  },
  {
   "cell_type": "code",
   "execution_count": 9,
   "metadata": {},
   "outputs": [
    {
     "name": "stdout",
     "output_type": "stream",
     "text": [
      "Enter a sentence, and I will count the number of times each word is used. New to Python or choosing between Python 2 and Python 3? Read Python 2 or Python 3.\n",
      "2:2\n",
      "3.:1\n",
      "3?:1\n",
      "New:1\n",
      "Python:5\n",
      "Read:1\n",
      "and:1\n",
      "between:1\n",
      "choosing:1\n",
      "or:2\n",
      "to:1\n"
     ]
    }
   ],
   "source": [
    "#Solution 4: use Counter method from collections library to store elements as dict keys and their counts as dict values. \n",
    "\n",
    "from collections import Counter\n",
    "\n",
    "sentence = input('Enter a sentence, and I will count the number of times each word is used. ').split(' ')\n",
    "sentence = Counter(sentence)  #returns dictionary with items in list as keys & counts as values\n",
    "sentence = sorted(sentence.items())  #returns key:value pair (item:count) as list of tuples\n",
    "\n",
    "for item in sentence:\n",
    "    print(f'{item[0]}:{item[1]}')\n",
    "    #print('{}:{}'.format(item[0],item[1]))\n",
    "    #print('%s:%d'%(item[0],item[1]))"
   ]
  },
  {
   "cell_type": "markdown",
   "metadata": {},
   "source": [
    "\n",
    "_______________________________________________________________________\n",
    "Exercise 23: Write a method which can calculate square value of number. Hints: Using the ** operator which can be written as n**p where means n^p\n",
    "\n",
    "*Instructions aren't clear... write a method or write a function?"
   ]
  },
  {
   "cell_type": "code",
   "execution_count": 1,
   "metadata": {},
   "outputs": [
    {
     "name": "stdout",
     "output_type": "stream",
     "text": [
      "100\n",
      "[1, 4, 9, 16, 25]\n",
      "[36, 49, 64, 81, 100]\n"
     ]
    }
   ],
   "source": [
    "#function to calculate square of number(s)\n",
    "def square(num):\n",
    "\treturn num**2\n",
    "\n",
    "#single number\n",
    "print(square(10))\n",
    "\n",
    "#list with for loop\n",
    "squared = []\n",
    "for i in [1,2,3,4,5]:\n",
    "\tsquared.append(square(i))\n",
    "print(squared)\n",
    "\n",
    "#list with map function\n",
    "print(list(map(square, [6,7,8,9,10])))"
   ]
  },
  {
   "cell_type": "code",
   "execution_count": 2,
   "metadata": {},
   "outputs": [
    {
     "name": "stdout",
     "output_type": "stream",
     "text": [
      "[121, 144, 169, 196, 225]\n"
     ]
    }
   ],
   "source": [
    "#list with using lambda function\n",
    "print([(lambda num: num**2)(i) for i in [11,12,13,14,15]])"
   ]
  },
  {
   "cell_type": "code",
   "execution_count": 3,
   "metadata": {},
   "outputs": [
    {
     "name": "stdout",
     "output_type": "stream",
     "text": [
      "[256, 289, 324, 361, 400]\n"
     ]
    }
   ],
   "source": [
    "#object with method to square number with list comprehension\n",
    "class Number:\n",
    "\tdef __init__(self, num_list):\n",
    "\t\tself.num_list = num_list\n",
    "\n",
    "\tdef squareNum(self):\n",
    "\t\tsq_list = [n**2 for n in self.num_list]\n",
    "\t\treturn sq_list\n",
    "\n",
    "numbers = Number([16,17,18,19,20])\n",
    "print(numbers.squareNum())"
   ]
  },
  {
   "cell_type": "code",
   "execution_count": 5,
   "metadata": {},
   "outputs": [
    {
     "name": "stdout",
     "output_type": "stream",
     "text": [
      "100\n",
      "10000\n"
     ]
    }
   ],
   "source": [
    "num = int(input())\n",
    "print(num**2)"
   ]
  },
  {
   "cell_type": "markdown",
   "metadata": {},
   "source": [
    "\n",
    "_______________________________________________________________________\n",
    "Exercise 24: Python has a built-in document function for every built-in function to give info on how to use the function. Please write a program to print documents for some Python built-in functions, such as abs(), int(), raw_input() and add a document for your own function.\n",
    "Hints: The built-in document method is __doc__. "
   ]
  },
  {
   "cell_type": "code",
   "execution_count": 2,
   "metadata": {},
   "outputs": [
    {
     "name": "stdout",
     "output_type": "stream",
     "text": [
      "Return the absolute value of the argument.\n",
      "int([x]) -> integer\n",
      "int(x, base=10) -> integer\n",
      "\n",
      "Convert a number or string to an integer, or return 0 if no arguments\n",
      "are given.  If x is a number, return x.__int__().  For floating point\n",
      "numbers, this truncates towards zero.\n",
      "\n",
      "If x is not a number or if base is given, then x must be a string,\n",
      "bytes, or bytearray instance representing an integer literal in the\n",
      "given base.  The literal can be preceded by '+' or '-' and be surrounded\n",
      "by whitespace.  The base defaults to 10.  Valid bases are 0 and 2-36.\n",
      "Base 0 means to interpret the base from the string as an integer literal.\n",
      ">>> int('0b100', base=0)\n",
      "4\n",
      "Forward raw_input to frontends\n",
      "\n",
      "        Raises\n",
      "        ------\n",
      "        StdinNotImplentedError if active frontend doesn't support stdin.\n",
      "        \n"
     ]
    }
   ],
   "source": [
    "# Solution for built-in functions using __doc__.\n",
    "\n",
    "print(abs.__doc__)\n",
    "print(int.__doc__)\n",
    "print(input.__doc__)"
   ]
  },
  {
   "cell_type": "code",
   "execution_count": 5,
   "metadata": {},
   "outputs": [
    {
     "name": "stdout",
     "output_type": "stream",
     "text": [
      "A function that prints \"Hello\"\n",
      "Hello\n",
      "Multiplies a number by 2.\n",
      "\n",
      "\tparam num(int or float): The number to multiply.\n",
      "\treturn int or float: The number multiplied by 2.\n",
      "\n",
      "\t\n",
      "20\n",
      "4.4\n",
      "Prints a greeting 'Hello World!'\n",
      "Hello World!\n"
     ]
    }
   ],
   "source": [
    "# Solution for your own functions use a string literal directly\n",
    "# below the object to automatically set the __doc__ value.\n",
    "# There is a standard format for these docstrings.\n",
    "# OR you can assign a string that documents the function\n",
    "# to the __doc__ property.\n",
    "\n",
    "def hello():\n",
    "\t'''A function that prints \"Hello\"'''\n",
    "\tprint('Hello')\n",
    "\n",
    "print(hello.__doc__)\n",
    "\n",
    "hello()\n",
    "\n",
    "def mult_by_2(num):\n",
    "\t'''Multiplies a number by 2.\n",
    "\n",
    "\tparam num(int or float): The number to multiply.\n",
    "\treturn int or float: The number multiplied by 2.\n",
    "\n",
    "\t'''\t\n",
    "\treturn num*2\n",
    "\n",
    "print(mult_by_2.__doc__)\n",
    "print(mult_by_2(10))\n",
    "print(mult_by_2(2.2))\n",
    "\n",
    "\n",
    "def greeting():\n",
    "\tprint('Hello World!')\n",
    "\n",
    "greeting.__doc__ = 'Prints a greeting \\'Hello World!\\''\n",
    "print(greeting.__doc__)\n",
    "\n",
    "greeting()"
   ]
  },
  {
   "cell_type": "code",
   "execution_count": 4,
   "metadata": {},
   "outputs": [
    {
     "name": "stdout",
     "output_type": "stream",
     "text": [
      "Help on built-in function abs in module builtins:\n",
      "\n",
      "abs(x, /)\n",
      "    Return the absolute value of the argument.\n",
      "\n",
      "Help on function hello in module __main__:\n",
      "\n",
      "hello()\n",
      "    A function that prints 'Hello'\n",
      "\n"
     ]
    }
   ],
   "source": [
    "# You can also use the help function to see documentation for functions.\n",
    "\n",
    "help(abs)\n",
    "help(hello)"
   ]
  },
  {
   "cell_type": "markdown",
   "metadata": {},
   "source": [
    "\n",
    "_______________________________________________________________________\n",
    "Exercise 25: Define a class, which has a class parameter and has the same instance parameter.\n",
    "Hints: Define an instance parameter with the __init__ method. You can set the parameter with the constructor function or set the value later."
   ]
  },
  {
   "cell_type": "code",
   "execution_count": 6,
   "metadata": {},
   "outputs": [
    {
     "name": "stdout",
     "output_type": "stream",
     "text": [
      "song\n",
      "Peter Peter Peter\n",
      "song is Caw Caw\n"
     ]
    }
   ],
   "source": [
    "class Bird:\n",
    "\tcall = 'song'\n",
    "\tdef __init__(self, call = None):\n",
    "\t\tself.call = call\n",
    "\n",
    "print(Bird.call)\n",
    "\n",
    "titmouse = Bird('Peter Peter Peter')\n",
    "print(titmouse.call)\n",
    "\n",
    "crow = Bird()\n",
    "crow.call = ('Caw Caw')\n",
    "print(f'{Bird.call} is {crow.call}')"
   ]
  },
  {
   "cell_type": "markdown",
   "metadata": {},
   "source": [
    "\n",
    "_______________________________________________________________________\n",
    "Exercise 26: Define a function which can compute the sum of two numbers.\n",
    "Hints: Define a function with two numbers as arguments."
   ]
  },
  {
   "cell_type": "code",
   "execution_count": 7,
   "metadata": {},
   "outputs": [
    {
     "name": "stdout",
     "output_type": "stream",
     "text": [
      "30\n",
      "15\n"
     ]
    }
   ],
   "source": [
    "# Define a sum function\n",
    "def sum(num1, num2):\n",
    "\treturn num1 + num2\n",
    "\n",
    "print(sum(10, 20))\n",
    "\n",
    "# Using lambda\n",
    "add = lambda num1, num2: num1 + num2\n",
    "print(add(5, 10))"
   ]
  },
  {
   "cell_type": "markdown",
   "metadata": {},
   "source": [
    "\n",
    "_______________________________________________________________________\n",
    "Exercise 27: Define a function that can convert a integer into a string and print it in console.\n",
    "Hints: Use str() to convert a number to string."
   ]
  },
  {
   "cell_type": "code",
   "execution_count": 8,
   "metadata": {},
   "outputs": [
    {
     "name": "stdout",
     "output_type": "stream",
     "text": [
      "This is the value of pi: \n",
      "3.1415926535\n"
     ]
    }
   ],
   "source": [
    "def int2str(num):\n",
    "\tstring = str(num)\n",
    "\tprint(string)\n",
    "\n",
    "print('This is the value of pi: ')\n",
    "int2str(3.1415926535)"
   ]
  },
  {
   "cell_type": "markdown",
   "metadata": {},
   "source": [
    "\n",
    "_______________________________________________________________________\n",
    "Exercise 28: Define a function that can receive two integer numbers in string form and compute their sum and then print it in console.\n",
    "Hints: Use int() to convert a string to integer."
   ]
  },
  {
   "cell_type": "code",
   "execution_count": 15,
   "metadata": {},
   "outputs": [
    {
     "name": "stdout",
     "output_type": "stream",
     "text": [
      "30\n",
      "15\n"
     ]
    }
   ],
   "source": [
    "# Solution 1\n",
    "def add(a, b):\n",
    "\tprint(int(a) + int(b))\n",
    "\n",
    "add('10', '20')\n",
    "\n",
    "# Solution 2\n",
    "addInt = lambda a, b: int(a) + int(b)\n",
    "print(addInt('5', '10'))"
   ]
  },
  {
   "cell_type": "markdown",
   "metadata": {},
   "source": [
    "_______________________________________________________________________\n",
    "Exercise 29: Define a function that can accept two strings as input and concatenate them and then print it in console.\n",
    "Hints: Use + sign to concatenate the strings."
   ]
  },
  {
   "cell_type": "code",
   "execution_count": 11,
   "metadata": {},
   "outputs": [
    {
     "name": "stdout",
     "output_type": "stream",
     "text": [
      "Hello! How are you?\n",
      "¡Hola! ¿Cómo estás?\n"
     ]
    }
   ],
   "source": [
    "# Solution 1\n",
    "def combine_strings(str1, str2):\n",
    "\tprint(str1 + str2)\n",
    "\n",
    "combine_strings('Hello! ', 'How are you?')\n",
    "\n",
    "\n",
    "# Solution 2\n",
    "addStr = lambda str1, str2: str1 + str2\n",
    "print(addStr('¡Hola! ', '¿Cómo estás?'))"
   ]
  },
  {
   "cell_type": "code",
   "execution_count": 13,
   "metadata": {},
   "outputs": [
    {
     "name": "stdout",
     "output_type": "stream",
     "text": [
      "Howdy! What's up?\n"
     ]
    }
   ],
   "source": [
    "# Solution 3\n",
    "#I read in a medium article that performance is better using .join() than + to concatenate strings.\n",
    "\n",
    "joinStr = lambda str1, str2: ' '.join([str1, str2])\n",
    "print(joinStr('Howdy!', 'What\\'s up?'))"
   ]
  },
  {
   "cell_type": "markdown",
   "metadata": {},
   "source": [
    "_______________________________________________________________________\n",
    "Exercise 30: Define a function that can accept two strings as input and print the string with maximum length in console. If two strings have the same length, then the function should print all strings line by line.\n",
    "Hints: Use len() function to get the length of a string."
   ]
  },
  {
   "cell_type": "code",
   "execution_count": 7,
   "metadata": {},
   "outputs": [
    {
     "name": "stdout",
     "output_type": "stream",
     "text": [
      "Enter first string: Dorothy and Toto are off to see the wizard walking along the yellow brick road.\n",
      "Enter second string: They meet witches, munchkins and make new friends along the way.\n",
      "Dorothy and Toto are off to see the wizard walking along the yellow brick road.\n"
     ]
    }
   ],
   "source": [
    "# Solution 1\n",
    "def long_string(str1, str2):\n",
    "\tlen1 = len(str1)\n",
    "\tlen2 = len(str2)\n",
    "\tif len1 == len2:\n",
    "\t\tprint(str1, str2, sep='\\n')\n",
    "\telif len1 > len2:\n",
    "\t\tprint(str1)\n",
    "\telse: \n",
    "\t\tprint(str2)\n",
    "\n",
    "long_string(input('Enter first string: '), input('Enter second string: '))"
   ]
  },
  {
   "cell_type": "code",
   "execution_count": 8,
   "metadata": {},
   "outputs": [
    {
     "name": "stdout",
     "output_type": "stream",
     "text": [
      "Enter first string: Dorothy and Toto are off to see the wizard walking along the yellow brick road.\n",
      "Enter second string: They meet witches, munchkins and make new friends while trying to find their way home.\n",
      "They meet witches, munchkins and make new friends while trying to find their way home.\n"
     ]
    }
   ],
   "source": [
    "# Solution 2\n",
    "def longest_str(str1, str2):\n",
    "\tlen1 = len(str1)\n",
    "\tlen2 = len(str2)\n",
    "\tif len1 == len2:\n",
    "\t\tprint(str1 + '\\n' + str2)\n",
    "\telse: \n",
    "\t\tprint(max(str1, str2))\n",
    "\n",
    "s1 = input('Enter first string: ')\n",
    "s2 = input('Enter second string: ')\n",
    "longest_str(s1, s2)"
   ]
  },
  {
   "cell_type": "code",
   "execution_count": 9,
   "metadata": {},
   "outputs": [
    {
     "name": "stdout",
     "output_type": "stream",
     "text": [
      "Enter first string: hello world how are you?\n",
      "Enter second string: hello how are you world?\n",
      "hello world how are you?\n",
      "hello how are you world?\n"
     ]
    }
   ],
   "source": [
    "# Solution 3\n",
    "long_str = lambda s1,s2: print(max((s1,s2), key=len)) if len(s1) != len(s2) else print(s1 +'\\n'+ s2)\n",
    "str1 = input('Enter first string: ')\n",
    "str2 = input('Enter second string: ')\n",
    "long_str(str1, str2)"
   ]
  },
  {
   "cell_type": "markdown",
   "metadata": {},
   "source": [
    "\n",
    "_______________________________________________________________________\n",
    "Exercise 31: Define a function which can print a dictionary where the keys are numbers between 1 and 20 (both included) and the values are square of keys.\n",
    "Hints: Use dict[key]=value pattern to put entry into a dictionary.Use ** operator to get power of a number. Use range() for loops."
   ]
  },
  {
   "cell_type": "code",
   "execution_count": 4,
   "metadata": {},
   "outputs": [
    {
     "name": "stdout",
     "output_type": "stream",
     "text": [
      "{1: 1, 2: 4, 3: 9, 4: 16, 5: 25, 6: 36, 7: 49, 8: 64, 9: 81, 10: 100, 11: 121, 12: 144, 13: 169, 14: 196, 15: 225, 16: 256, 17: 289, 18: 324, 19: 361, 20: 400}\n"
     ]
    }
   ],
   "source": [
    "# Solution 1: dictionary comprehension\n",
    "def dict_of_squares():\n",
    "\tsquares = {n: n**2 for n in range(1,21)}\n",
    "\tprint(squares)\n",
    "\n",
    "dict_of_squares()"
   ]
  },
  {
   "cell_type": "code",
   "execution_count": 5,
   "metadata": {},
   "outputs": [
    {
     "name": "stdout",
     "output_type": "stream",
     "text": [
      "{1: 1, 2: 4, 3: 9, 4: 16, 5: 25, 6: 36, 7: 49, 8: 64, 9: 81, 10: 100, 11: 121, 12: 144, 13: 169, 14: 196, 15: 225, 16: 256, 17: 289, 18: 324, 19: 361, 20: 400}\n"
     ]
    }
   ],
   "source": [
    "#Solution 2:\n",
    "def dict_of_squares():\n",
    "\tsquares = {}\n",
    "\tfor num in range(1,21):\n",
    "\t\tsquares[num] = num ** 2\n",
    "\tprint(squares)\n",
    "\n",
    "dict_of_squares()"
   ]
  },
  {
   "cell_type": "code",
   "execution_count": 6,
   "metadata": {},
   "outputs": [
    {
     "name": "stdout",
     "output_type": "stream",
     "text": [
      "{1: 1, 2: 4, 3: 9, 4: 16, 5: 25, 6: 36, 7: 49, 8: 64, 9: 81, 10: 100, 11: 121, 12: 144, 13: 169, 14: 196, 15: 225, 16: 256, 17: 289, 18: 324, 19: 361, 20: 400}\n"
     ]
    }
   ],
   "source": [
    "#Solution 3:\n",
    "def dict_of_squares():\n",
    "\tsquares = dict()\n",
    "\tfor num in range(1,21):\n",
    "\t\tsquares.update({num: num**2})\n",
    "\tprint(squares)\n",
    "\n",
    "dict_of_squares()"
   ]
  },
  {
   "cell_type": "markdown",
   "metadata": {},
   "source": [
    "\n",
    "_______________________________________________________________________\n",
    "Exercise 32: Define a function which can generate a dictionary where the keys are numbers between 1 and 20 (both included) and the values are square of keys. The function should just print the keys only.\n",
    "Hints: Use dict[key]=value pattern to put entry into a dictionary. Use ** operator to get power of a number. Use range() for loops."
   ]
  },
  {
   "cell_type": "code",
   "execution_count": 1,
   "metadata": {},
   "outputs": [
    {
     "name": "stdout",
     "output_type": "stream",
     "text": [
      "1\n",
      "2\n",
      "3\n",
      "4\n",
      "5\n",
      "6\n",
      "7\n",
      "8\n",
      "9\n",
      "10\n",
      "11\n",
      "12\n",
      "13\n",
      "14\n",
      "15\n",
      "16\n",
      "17\n",
      "18\n",
      "19\n",
      "20\n"
     ]
    }
   ],
   "source": [
    "# Solution 1: dictionary comprehension\n",
    "def dict_of_squares():\n",
    "\tsquares = {n: n**2 for n in range(1,21)}\n",
    "\tfor k in squares.keys():\n",
    "\t    print(k)\n",
    "\n",
    "dict_of_squares()"
   ]
  },
  {
   "cell_type": "code",
   "execution_count": 2,
   "metadata": {},
   "outputs": [
    {
     "name": "stdout",
     "output_type": "stream",
     "text": [
      "1\n",
      "2\n",
      "3\n",
      "4\n",
      "5\n",
      "6\n",
      "7\n",
      "8\n",
      "9\n",
      "10\n",
      "11\n",
      "12\n",
      "13\n",
      "14\n",
      "15\n",
      "16\n",
      "17\n",
      "18\n",
      "19\n",
      "20\n"
     ]
    }
   ],
   "source": [
    "# Solution 2: use dict constructor\n",
    "def dict_of_squares():\n",
    "\tsquares = dict()\n",
    "\tfor num in range(1,21):\n",
    "\t\tsquares[num] = num ** 2\n",
    "\tfor k, v in squares.items():\n",
    "\t    print(k)\n",
    "\n",
    "dict_of_squares()"
   ]
  },
  {
   "cell_type": "code",
   "execution_count": 3,
   "metadata": {},
   "outputs": [
    {
     "name": "stdout",
     "output_type": "stream",
     "text": [
      "dict_keys([1, 2, 3, 4, 5, 6, 7, 8, 9, 10, 11, 12, 13, 14, 15, 16, 17, 18, 19, 20])\n"
     ]
    }
   ],
   "source": [
    "#Solution 3: use the update method and print a keys object (a list of all the keys)\n",
    "def dict_of_squares():\n",
    "\tsquares = {}\n",
    "\tfor num in range(1,21):\n",
    "\t\tsquares.update({num: num**2})\n",
    "\tprint(squares.keys())\n",
    "\n",
    "dict_of_squares()"
   ]
  },
  {
   "cell_type": "markdown",
   "metadata": {},
   "source": [
    "\n",
    "_______________________________________________________________________\n",
    "Exercise 33:\n",
    "Define a function which can generate and print a list where the values are square of numbers between 1 and 20 (both included).\n",
    "Hints: Use ** operator to get power of a number. Use range() for loops. Use list.append() to add values into a list."
   ]
  },
  {
   "cell_type": "code",
   "execution_count": 7,
   "metadata": {},
   "outputs": [
    {
     "name": "stdout",
     "output_type": "stream",
     "text": [
      "[1, 4, 9, 16, 25, 36, 49, 64, 81, 100, 121, 144, 169, 196, 225, 256, 289, 324, 361, 400]\n"
     ]
    }
   ],
   "source": [
    "# Solution 1:\n",
    "def sq_list():\n",
    "\tsquares = []\n",
    "\tfor i in range(1,21):\n",
    "\t\tsquares.append(i**2)\n",
    "\tprint(squares)\n",
    "\n",
    "sq_list()"
   ]
  },
  {
   "cell_type": "code",
   "execution_count": 8,
   "metadata": {},
   "outputs": [
    {
     "name": "stdout",
     "output_type": "stream",
     "text": [
      "[1, 4, 9, 16, 25, 36, 49, 64, 81, 100, 121, 144, 169, 196, 225, 256, 289, 324, 361, 400]\n"
     ]
    }
   ],
   "source": [
    "# Solution 2: list comprehension\n",
    "def lst_of_squares():\n",
    "\tsquares = [n**2 for n in range(1,21)]\n",
    "\tprint(squares)\n",
    "\n",
    "lst_of_squares()"
   ]
  },
  {
   "cell_type": "markdown",
   "metadata": {},
   "source": [
    "\n",
    "_______________________________________________________________________\n",
    "Exercise 34: Define a function which can generate a list where the values are square of numbers between 1 and 20 (both included). Then the function needs to print the first 5 elements in the list.\n",
    "Hints: Use ** operator to get power of a number. Use range() for loops. Use list.append() to add values into a list. Use [n1:n2] to slice a list."
   ]
  },
  {
   "cell_type": "code",
   "execution_count": 10,
   "metadata": {},
   "outputs": [
    {
     "name": "stdout",
     "output_type": "stream",
     "text": [
      "[1, 4, 9, 16, 25]\n",
      "[1, 4, 9, 16, 25]\n"
     ]
    }
   ],
   "source": [
    "# Solution 1:\n",
    "def sq_list():\n",
    "\tsquares = []\n",
    "\tfor i in range(1,21):\n",
    "\t\tsquares.append(i**2)\n",
    "\tprint(squares[:5])\n",
    "\n",
    "sq_list()\n",
    "\n",
    "\n",
    "# Solution 2: list comprehension\n",
    "def lst_of_squares():\n",
    "\tsquares = [n**2 for n in range(1,21)]\n",
    "\tprint(squares[:5])\n",
    "\n",
    "lst_of_squares()"
   ]
  },
  {
   "cell_type": "markdown",
   "metadata": {},
   "source": [
    "\n",
    "_______________________________________________________________________\n",
    "Exercise 35: Define a function which can generate a list where the values are square of numbers between 1 and 20 (both included). Then the function needs to print the last 5 elements in the list.\n",
    "Hints: Use ** operator to get power of a number. Use range() for loops. Use list.append() to add values into a list. Use [n1:n2] to slice a list."
   ]
  },
  {
   "cell_type": "code",
   "execution_count": 11,
   "metadata": {},
   "outputs": [
    {
     "name": "stdout",
     "output_type": "stream",
     "text": [
      "[256, 289, 324, 361, 400]\n",
      "[256, 289, 324, 361, 400]\n"
     ]
    }
   ],
   "source": [
    "# Solution 1:\n",
    "def sq_list():\n",
    "\tsquares = []\n",
    "\tfor i in range(1,21):\n",
    "\t\tsquares.append(i**2)\n",
    "\tx = len(squares) - 5\n",
    "\tprint(squares[x:])\n",
    "\n",
    "sq_list()\n",
    "\n",
    "\n",
    "# Solution 2: list comprehension\n",
    "def lst_of_squares():\n",
    "\tsquares = [n**2 for n in range(1,21)]\n",
    "\tprint(squares[-5:])\n",
    "\n",
    "lst_of_squares()"
   ]
  },
  {
   "cell_type": "markdown",
   "metadata": {},
   "source": [
    "\n",
    "_______________________________________________________________________\n",
    "Exercise 36: Define a function which can generate a list where the values are square of numbers between 1 and 20 (both included). Then the function needs to print all values except the first 5 elements in the list.\n",
    "Hints: Use ** operator to get power of a number. Use range() for loops. Use list.append() to add values into a list. Use [n1:n2] to slice a list."
   ]
  },
  {
   "cell_type": "code",
   "execution_count": 12,
   "metadata": {},
   "outputs": [
    {
     "name": "stdout",
     "output_type": "stream",
     "text": [
      "[36, 49, 64, 81, 100, 121, 144, 169, 196, 225, 256, 289, 324, 361, 400]\n",
      "[36, 49, 64, 81, 100, 121, 144, 169, 196, 225, 256, 289, 324, 361, 400]\n"
     ]
    }
   ],
   "source": [
    "# Solution 1:\n",
    "def sq_list():\n",
    "\tsquares = []\n",
    "\tfor i in range(1,21):\n",
    "\t\tsquares.append(i**2)\n",
    "\tprint(squares[5:])\n",
    "\n",
    "sq_list()\n",
    "\n",
    "\n",
    "# Solution 2: list comprehension\n",
    "def lst_of_squares():\n",
    "\tsquares = [n**2 for n in range(1,21)]\n",
    "\tprint(squares[5:])\n",
    "\n",
    "lst_of_squares()"
   ]
  },
  {
   "cell_type": "markdown",
   "metadata": {},
   "source": [
    "\n",
    "_______________________________________________________________________\n",
    "Exercise 37: Define a function which can generate a tuple where the values are square of numbers between 1 and 20 (both included).\n",
    "Hints: Use ** operator to get power of a number. Use range() for loops. Use list.append() to add values into a list. Use tuple() to get a tuple from a list."
   ]
  },
  {
   "cell_type": "code",
   "execution_count": 13,
   "metadata": {},
   "outputs": [
    {
     "name": "stdout",
     "output_type": "stream",
     "text": [
      "(1, 4, 9, 16, 25, 36, 49, 64, 81, 100, 121, 144, 169, 196, 225, 256, 289, 324, 361, 400)\n",
      "(1, 4, 9, 16, 25, 36, 49, 64, 81, 100, 121, 144, 169, 196, 225, 256, 289, 324, 361, 400)\n"
     ]
    }
   ],
   "source": [
    "# Solution 1:\n",
    "def sq_list():\n",
    "\tsquares = []\n",
    "\tfor i in range(1,21):\n",
    "\t\tsquares.append(i**2)\n",
    "\tprint(tuple(squares))\n",
    "\n",
    "sq_list()\n",
    "\n",
    "\n",
    "# Solution 2:\n",
    "def lst_of_squares():\n",
    "\tsquares = [n**2 for n in range(1,21)]\n",
    "\tprint(tuple(squares))\n",
    "\n",
    "lst_of_squares()"
   ]
  },
  {
   "cell_type": "code",
   "execution_count": null,
   "metadata": {},
   "outputs": [],
   "source": []
  },
  {
   "cell_type": "code",
   "execution_count": null,
   "metadata": {},
   "outputs": [],
   "source": []
  }
 ],
 "metadata": {
  "kernelspec": {
   "display_name": "Python 3",
   "language": "python",
   "name": "python3"
  },
  "language_info": {
   "codemirror_mode": {
    "name": "ipython",
    "version": 3
   },
   "file_extension": ".py",
   "mimetype": "text/x-python",
   "name": "python",
   "nbconvert_exporter": "python",
   "pygments_lexer": "ipython3",
   "version": "3.7.6"
  }
 },
 "nbformat": 4,
 "nbformat_minor": 4
}
