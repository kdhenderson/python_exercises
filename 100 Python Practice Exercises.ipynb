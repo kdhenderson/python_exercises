{
 "cells": [
  {
   "cell_type": "markdown",
   "metadata": {},
   "source": [
    "Exercise 1:\n",
    "Write a program which will find all numbers between 2000 and 3200 (both included) divisible by 7 but which aren't a multiple of 5.\n",
    "The numbers obtained should be printed in a comma-separated sequence on a single line."
   ]
  },
  {
   "cell_type": "code",
   "execution_count": 1,
   "metadata": {},
   "outputs": [
    {
     "name": "stdout",
     "output_type": "stream",
     "text": [
      "2002,2009,2016,2023,2037,2044,2051,2058,2072,2079,2086,2093,2107,2114,2121,2128,2142,2149,2156,2163,2177,2184,2191,2198,2212,2219,2226,2233,2247,2254,2261,2268,2282,2289,2296,2303,2317,2324,2331,2338,2352,2359,2366,2373,2387,2394,2401,2408,2422,2429,2436,2443,2457,2464,2471,2478,2492,2499,2506,2513,2527,2534,2541,2548,2562,2569,2576,2583,2597,2604,2611,2618,2632,2639,2646,2653,2667,2674,2681,2688,2702,2709,2716,2723,2737,2744,2751,2758,2772,2779,2786,2793,2807,2814,2821,2828,2842,2849,2856,2863,2877,2884,2891,2898,2912,2919,2926,2933,2947,2954,2961,2968,2982,2989,2996,3003,3017,3024,3031,3038,3052,3059,3066,3073,3087,3094,3101,3108,3122,3129,3136,3143,3157,3164,3171,3178,3192,3199\n"
     ]
    }
   ],
   "source": [
    "multiples = []\n",
    "\n",
    "for num in range(2000, 3201):\n",
    "\tif ((num % 7) == 0) and ((num % 5) != 0):\n",
    "\t\tmultiples.append(str(num))\n",
    "\n",
    "print(\",\".join(multiples))"
   ]
  },
  {
   "cell_type": "markdown",
   "metadata": {},
   "source": [
    "_________________________________________________________________________\n",
    "\n",
    "Exercise 2:\n",
    "Write a program which can compute the factorial of given numbers.\n",
    "The results should be printed in a comma-separated sequence on a single line.\n",
    "Suppose the following input is supplied to the program: 8\n",
    "Then the output should be: 40320\n",
    "In case of input data being supplied to the question, it should be assumed to be a console input.\n",
    "\n",
    "A factorial is a function that multiplies a number by every number below it. For example the factorial of 5 is 120 or 5x4x3x2x1.\n",
    "\n",
    "I assumed the user could give multiple numbers, b/c the exercise was unclear on this."
   ]
  },
  {
   "cell_type": "code",
   "execution_count": 2,
   "metadata": {},
   "outputs": [
    {
     "name": "stdout",
     "output_type": "stream",
     "text": [
      "What number or numbers would you like to know the factorial of? (separated by spaces)8 5\n",
      "40320,120\n"
     ]
    }
   ],
   "source": [
    "nums = [int(nums) for nums in input('What number or numbers would you like to know the factorial of? (separated by spaces)').split()]  \n",
    "factorials = []\n",
    "\n",
    "for num in nums:\n",
    "\tfactorial = 1\n",
    "\tfor num in range(num, 1, -1): \n",
    "   \t\tfactorial = factorial * num\n",
    "\tfactorials.append(str(factorial))\n",
    "print(\",\".join(factorials))"
   ]
  },
  {
   "cell_type": "markdown",
   "metadata": {},
   "source": [
    "\n",
    "_________________________________________________________________________\n",
    "Exercise 3:\n",
    "With a given integral number n, write a program to generate and print a dictionary that contains (i, i x i) for each number between 1 and n (both included).\n",
    "Suppose the following input is supplied to the program: 8.\n",
    "Then the output should be: {1: 1, 2: 4, 3: 9, 4: 16, 5: 25, 6: 36, 7: 49, 8: 64}\n",
    "Hints: In case of input data being supplied to the question, it should be assumed to be a console input. Consider using dict()"
   ]
  },
  {
   "cell_type": "code",
   "execution_count": 3,
   "metadata": {},
   "outputs": [
    {
     "name": "stdout",
     "output_type": "stream",
     "text": [
      "Please enter a number: 8\n",
      "{1: 1, 2: 4, 3: 9, 4: 16, 5: 25, 6: 36, 7: 49, 8: 64}\n"
     ]
    }
   ],
   "source": [
    "num = int(input('Please enter a number: '))  \n",
    "squares = {}\n",
    "\n",
    "for k in range(1, (num + 1)):\n",
    "\tv = k*k\n",
    "\tsquares.update({k : v})\n",
    "\n",
    "print(squares)"
   ]
  },
  {
   "cell_type": "markdown",
   "metadata": {},
   "source": [
    "\n",
    "_________________________________________________________________________\n",
    "Exercise 4:\n",
    "Write a program which accepts a sequence of comma-separated numbers from the console and generates a list and a tuple which contains every number.\n",
    "Suppose the following input is supplied to the program: 34,67,55,33,12,98\n",
    "Then, the output should be:\n",
    "['34', '67', '55', '33', '12', '98']\n",
    "('34', '67', '55', '33', '12', '98')\n",
    "Hints: input.tuple() method can convert list to tuple"
   ]
  },
  {
   "cell_type": "code",
   "execution_count": 7,
   "metadata": {},
   "outputs": [
    {
     "name": "stdout",
     "output_type": "stream",
     "text": [
      "Enter some comma-separated numbers here: 34,67,55,33,12,98\n",
      "['34', '67', '55', '33', '12', '98']\n",
      "('34', '67', '55', '33', '12', '98')\n"
     ]
    }
   ],
   "source": [
    "li = input('Enter some comma-separated numbers here: ').split(',')\n",
    "#the input is one string which is split at the commas to make a list of strings\n",
    "\n",
    "tu = tuple(li)\n",
    "#tuple method converts list to tuple\n",
    "\n",
    "print(li)\n",
    "print(tu)"
   ]
  },
  {
   "cell_type": "markdown",
   "metadata": {},
   "source": [
    "\n",
    "_________________________________________________________________________\n",
    "Exercise 5:\n",
    "Define a class which has at least two methods: getString, to get a string from console input and printString, to print the string in upper case.\n",
    "Also please include simple test function to test the class methods.\n",
    "Hints: Use init method to construct some parameters."
   ]
  },
  {
   "cell_type": "code",
   "execution_count": 9,
   "metadata": {},
   "outputs": [
    {
     "name": "stdout",
     "output_type": "stream",
     "text": [
      "Type something here: I'm Dorothy, and there's no place like home.\n",
      "I'M DOROTHY, AND THERE'S NO PLACE LIKE HOME.\n"
     ]
    }
   ],
   "source": [
    "class Demo():\n",
    "\tdef __init__(self, user_string = 'hello world'):\n",
    "\t\tself.user_string = user_string\n",
    "\n",
    "\tdef getString(self):\n",
    "\t\tuser_string = input('Type something here: ')\n",
    "\t\treturn user_string\n",
    "\n",
    "\tdef printString(self, getString):\n",
    "\t\tupper_string = getString.upper()\n",
    "\t\tprint(upper_string)\n",
    "\t\t#return upper_string\n",
    "\n",
    "demo1 = Demo('crazy eights')\n",
    "demo1.printString(demo1.getString())\n",
    "\n",
    "#still working on test function"
   ]
  },
  {
   "cell_type": "code",
   "execution_count": 1,
   "metadata": {},
   "outputs": [],
   "source": [
    "# import unittest\n",
    "# from ex005 import Demo\n",
    "\n",
    "# class TestMain(unittest.TestCase):\n",
    "\n",
    "# \tdef test_printString(self):\n",
    "# \t\ttest_param = \"Hi, I'm Dorothy.\"\n",
    "# \t\tresult = Demo.printString(self, test_param)\n",
    "# \t\tself.assertEqual(result, \"HI, I'M DOROTHY.\")\n",
    "\n",
    "# \tdef test_isThisWorking(self):\n",
    "# \t\tprint('done testing')\n",
    "\n",
    "# if __name__ == '__main__':\n",
    "# \tunittest.main()"
   ]
  },
  {
   "cell_type": "markdown",
   "metadata": {},
   "source": [
    "\n",
    "_________________________________________________________________________\n",
    "Exercise 6:\n",
    "Write a program that calculates and prints the value according to the given formula: Q = Square root of [(2xCxD)/H]\n",
    "Following are the fixed values of C and H: C is 50. H is 30.\n",
    "D is the variable whose values should be input to your program in a comma-separated sequence.\n",
    "For example, let's assume the following comma-separated input sequence is given to the program: 100,150,180\n",
    "The output of the program should be: 18,22,24\n",
    "Hints: If the output received is in decimal form, it should be rounded off to its nearest value.\n",
    "Data is supplied through a console input."
   ]
  },
  {
   "cell_type": "code",
   "execution_count": 2,
   "metadata": {},
   "outputs": [
    {
     "name": "stdout",
     "output_type": "stream",
     "text": [
      "List some numbers separated by commas: 100,150,180\n",
      "18,22,24\n"
     ]
    }
   ],
   "source": [
    "from math import sqrt\n",
    "\n",
    "C = 50\n",
    "H = 30\n",
    "D = list(map(int, (input('List some numbers separated by commas: ').split(','))))\n",
    "Q = []\n",
    "\n",
    "for num in D:\n",
    "\tQ.append(str(round(sqrt(2*C*num/H))))\n",
    "\n",
    "print(','.join(Q))"
   ]
  },
  {
   "cell_type": "code",
   "execution_count": null,
   "metadata": {},
   "outputs": [],
   "source": []
  },
  {
   "cell_type": "markdown",
   "metadata": {},
   "source": [
    "\n",
    "_________________________________________________________________\n",
    "Exercise 8: Write a program that accepts a comma separated sequence of words as a console input and prints the words in a comma-separated sequence after sorting them alphabetically.\n",
    "Suppose the following input is supplied to the program: without,hello,bag,world\n",
    "Then, the output should be: bag,hello,without,world"
   ]
  },
  {
   "cell_type": "code",
   "execution_count": 1,
   "metadata": {},
   "outputs": [
    {
     "name": "stdout",
     "output_type": "stream",
     "text": [
      "Please enter words to sort in comma-separated format: tener,hacer,comprender,llamar,querer,estar,salir,comprar,decir,pueder,saber,ser,necesitar\n",
      "comprar,comprender,decir,estar,hacer,llamar,necesitar,pueder,querer,saber,salir,ser,tener\n"
     ]
    }
   ],
   "source": [
    "# words = input('Please enter words to sort in comma-separated format: ').split(',')\n",
    "# words.sort()\n",
    "# print(\",\".join(words))\n",
    "\n",
    "# words = input('Please enter words to sort in comma-separated format: ').split(',')\n",
    "# sorted_words = sorted(words)\n",
    "# print(\",\".join(sorted_words))\n",
    "\n",
    "words = input('Please enter words to sort in comma-separated format: ').split(',')\n",
    "print(\",\".join(sorted(words)))"
   ]
  },
  {
   "cell_type": "markdown",
   "metadata": {},
   "source": [
    "\n",
    "_________________________________________________________________\n",
    "Exercise 9: Write a program that accepts a sequence of lines as input from a console and prints the lines after making all characters in the sentence capitalized.\n",
    "Suppose the following input is supplied to the program:\n",
    "Hello world\n",
    "Practice makes perfect\n",
    "Then, the output should be:\n",
    "HELLO WORLD\n",
    "PRACTICE MAKES PERFECT"
   ]
  },
  {
   "cell_type": "code",
   "execution_count": 2,
   "metadata": {},
   "outputs": [
    {
     "name": "stdout",
     "output_type": "stream",
     "text": [
      "At the prompt, please enter a line to convert to uppercase or enter x to exit: \n",
      "hi i'm dorothy\n",
      "this is toto\n",
      "i'm from kansas\n",
      "there's no place like home\n",
      "x\n",
      "HI I'M DOROTHY\n",
      "THIS IS TOTO\n",
      "I'M FROM KANSAS\n",
      "THERE'S NO PLACE LIKE HOME\n"
     ]
    }
   ],
   "source": [
    "lines = []\n",
    "print('At the prompt, please enter a line to convert to uppercase or enter x to exit: ')\n",
    "\n",
    "while True:\n",
    "\tline = input()\n",
    "\tline = line.upper()\n",
    "\tif line == 'X':\n",
    "\t\tbreak\n",
    "\tlines.append(line)\n",
    "\n",
    "print(\"\\n\".join(lines))"
   ]
  },
  {
   "cell_type": "markdown",
   "metadata": {},
   "source": [
    "\n",
    "_________________________________________________________________\n",
    "Exercise 10:\n",
    "Write a program that accepts a sequence of whitespace separated words as input from the console and prints the words after removing all duplicate words and sorting them alphanumerically.\n",
    "Suppose the following input is supplied to the program:\n",
    "hello world and practice makes perfect and hello world again\n",
    "Then, the output should be:\n",
    "again and hello makes perfect practice world\n",
    "Hints: We use set container to remove duplicated data automatically and then use sorted() to sort the data."
   ]
  },
  {
   "cell_type": "code",
   "execution_count": 3,
   "metadata": {},
   "outputs": [
    {
     "name": "stdout",
     "output_type": "stream",
     "text": [
      "please enter words here: hello world and practice makes perfect and hello world again\n",
      "again and hello makes perfect practice world\n"
     ]
    }
   ],
   "source": [
    "words = sorted(list(set(input('please enter words here: ').split(' '))))\n",
    "print(' '.join(words))"
   ]
  },
  {
   "cell_type": "markdown",
   "metadata": {},
   "source": [
    "\n",
    "_________________________________________________________________\n",
    "Exercise 11: Write a program which accepts a sequence of comma-separated 4-digit binary numbers as input from a console and then checks whether they are divisible by 5 or not. The numbers that are divisible by 5 are to be printed in a comma-separated sequence.\n",
    "Example: 0100,0011,1010,1001\n",
    "Then the output should be: 1010"
   ]
  },
  {
   "cell_type": "code",
   "execution_count": 4,
   "metadata": {},
   "outputs": [
    {
     "name": "stdout",
     "output_type": "stream",
     "text": [
      "Enter 4-digit binary numbers separated by commas: 0000,0100,0011,1010,1001,1111\n",
      "0000,1010,1111\n"
     ]
    }
   ],
   "source": [
    "# My program also validates that the user entry is correct\n",
    "# and only 4-digit binary numbers are entered.\n",
    "\n",
    "def get_input():\n",
    "\tbin_nums = input('Enter 4-digit binary numbers separated by commas: ').split(',')\n",
    "\treturn bin_nums\n",
    "\n",
    "binary_nums = get_input()\n",
    "\n",
    "while True:\n",
    "\ttry:\n",
    "\t\tfor i in binary_nums:\n",
    "\t\t\tif len(i) == 4: \n",
    "\t\t\t\tint_nums = [int(i, 2) for i in binary_nums]\n",
    "\t\t\telse:\n",
    "\t\t\t\tbinary_nums = get_input()\t\n",
    "\t\tbreak\n",
    "\texcept ValueError:\n",
    "\t\tbinary_nums = get_input()\n",
    "\n",
    "output_nums = []\n",
    "\n",
    "for i in int_nums:\n",
    "\tif i % 5 == 0:\n",
    "\t\tidx = int_nums.index(i)\n",
    "\t\toutput_num = binary_nums[idx]\n",
    "\t\toutput_nums.append(output_num)\n",
    "\t\n",
    "\t\t# i = bin(i)\n",
    "\t\t# first2, output_num = i[:1], i[2:]\n",
    "\n",
    "print(','.join(output_nums))"
   ]
  },
  {
   "cell_type": "markdown",
   "metadata": {},
   "source": [
    "\n",
    "______________________________________________________________\n",
    "Exercise 12: Write a program, which will find all numbers between 1000 and 3000 (both included) such that each digit of the number is an even number. The numbers obtained should be printed in a comma-separated sequence on a single line."
   ]
  },
  {
   "cell_type": "code",
   "execution_count": 1,
   "metadata": {},
   "outputs": [
    {
     "name": "stdout",
     "output_type": "stream",
     "text": [
      "2000,2002,2004,2006,2008,2020,2022,2024,2026,2028,2040,2042,2044,2046,2048,2060,2062,2064,2066,2068,2080,2082,2084,2086,2088,2200,2202,2204,2206,2208,2220,2222,2224,2226,2228,2240,2242,2244,2246,2248,2260,2262,2264,2266,2268,2280,2282,2284,2286,2288,2400,2402,2404,2406,2408,2420,2422,2424,2426,2428,2440,2442,2444,2446,2448,2460,2462,2464,2466,2468,2480,2482,2484,2486,2488,2600,2602,2604,2606,2608,2620,2622,2624,2626,2628,2640,2642,2644,2646,2648,2660,2662,2664,2666,2668,2680,2682,2684,2686,2688,2800,2802,2804,2806,2808,2820,2822,2824,2826,2828,2840,2842,2844,2846,2848,2860,2862,2864,2866,2868,2880,2882,2884,2886,2888\n"
     ]
    }
   ],
   "source": [
    "output_nums = []\n",
    "\n",
    "for num in range(1000,3001):\t\n",
    "\tnum2str = str(num)\n",
    "\tfor i, digit in enumerate(num2str):\n",
    "\t\tif int(digit) % 2 != 0:\n",
    "\t\t\tbreak\n",
    "\t\telse:\n",
    "\t\t\tif i == 3:\n",
    "\t\t\t\toutput_nums.append(num2str)\n",
    "\n",
    "print(','.join(output_nums))"
   ]
  },
  {
   "cell_type": "markdown",
   "metadata": {},
   "source": [
    "\n",
    "______________________________________________________________________________________________________________________\n",
    "Exercise 13: Write a program that accepts a sentence and calculate the number of letters and digits.\n",
    "Suppose the following input is supplied to the program:\n",
    "hello world! 123\n",
    "Then, the output should be:\n",
    "LETTERS 10\n",
    "DIGITS 3"
   ]
  },
  {
   "cell_type": "code",
   "execution_count": 2,
   "metadata": {},
   "outputs": [
    {
     "name": "stdout",
     "output_type": "stream",
     "text": [
      "Write a sentence here: On the 12th day of Christmas my true love sent to me, 12 drummers drumming, 11 pipers piping, 10 lords a-leaping, 9 ladies dancing, 8 maids a-milking, 7 swans a-swimming, 6 geese a-laying, 5 golden rings, 4 calling birds, 3 french hens, 2 turtle doves, and a partridge in a pear tree.\n",
      "LETTERS 200\n",
      "DIGITS 16\n"
     ]
    }
   ],
   "source": [
    "# one solution which uses ascii codes\n",
    "\n",
    "sentence = input('Write a sentence here: ')\n",
    "\n",
    "letters = []\n",
    "digits = []\n",
    "\n",
    "for char in sentence:\n",
    "\t#ascii A-Z 65-90, a-z 97-122, 0-9 48-57\n",
    "\tif (64 < ord(char) < 91) or (96 < ord(char) < 122):\n",
    "\t\tletters.append(char)\n",
    "\telif (47 < ord(char) < 58):\n",
    "\t\tdigits.append(char)\n",
    "\n",
    "print('LETTERS ' + str(len(letters)))\n",
    "print('DIGITS ' + str(len(digits)))"
   ]
  },
  {
   "cell_type": "code",
   "execution_count": 4,
   "metadata": {},
   "outputs": [
    {
     "name": "stdout",
     "output_type": "stream",
     "text": [
      "Write a sentence here: On the 12th day of Christmas my true love sent to me, 12 drummers drumming, 11 pipers piping, 10 lords a-leaping, 9 ladies dancing, 8 maids a-milking, 7 swans a-swimming, 6 geese a-laying, 5 golden rings, 4 calling birds, 3 french hens, 2 turtle doves, and a partridge in a pear tree.\n",
      "LETTERS 200\n",
      "DIGITS 16\n"
     ]
    }
   ],
   "source": [
    "# another solution with regexs\n",
    "\n",
    "import re\n",
    "\n",
    "sentence = input('Write a sentence here: ')\n",
    "\n",
    "counter = 'LETTERS ' + str(len(re.findall(\"[a-zA-Z]\", sentence))) + '\\nDIGITS ' + str(len(re.findall(\"[0-9]\", sentence)))\n",
    "\n",
    "print(counter)"
   ]
  },
  {
   "cell_type": "code",
   "execution_count": null,
   "metadata": {},
   "outputs": [],
   "source": []
  }
 ],
 "metadata": {
  "kernelspec": {
   "display_name": "Python 3",
   "language": "python",
   "name": "python3"
  },
  "language_info": {
   "codemirror_mode": {
    "name": "ipython",
    "version": 3
   },
   "file_extension": ".py",
   "mimetype": "text/x-python",
   "name": "python",
   "nbconvert_exporter": "python",
   "pygments_lexer": "ipython3",
   "version": "3.7.6"
  }
 },
 "nbformat": 4,
 "nbformat_minor": 4
}
